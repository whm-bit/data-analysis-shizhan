{
 "cells": [
  {
   "cell_type": "markdown",
   "source": [
    "1,处理全国指数趋势表"
   ],
   "metadata": {
    "collapsed": false,
    "pycharm": {
     "name": "#%% md\n"
    }
   }
  },
  {
   "cell_type": "code",
   "execution_count": 1,
   "metadata": {
    "collapsed": true,
    "pycharm": {
     "is_executing": false
    }
   },
   "outputs": [
    {
     "name": "stderr",
     "text": [
      "D:\\SoftwareInstallation\\python_Anaconda\\lib\\site-packages\\ipykernel\\parentpoller.py:116: UserWarning: Parent poll failed.  If the frontend dies,\n",
      "                the kernel may be left running.  Please let us know\n",
      "                about your system (bitness, Python, etc.) at\n",
      "                ipython-dev@scipy.org\n",
      "  ipython-dev@scipy.org\"\"\")\n"
     ],
     "output_type": "stream"
    }
   ],
   "source": [
    "import numpy as np\n",
    "import pandas as pd"
   ]
  },
  {
   "cell_type": "code",
   "execution_count": 2,
   "outputs": [],
   "source": [
    "# 读取百度指数表\n",
    "index = pd.read_excel('././数据/baidu_index_0625.xlsx')\n",
    "prov_id = pd.read_excel('././././数据/province_id.xlsx')\n",
    "city_id = pd.read_excel('././././数据/province_id.xlsx')\n",
    "\n"
   ],
   "metadata": {
    "collapsed": false,
    "pycharm": {
     "name": "#%%\n",
     "is_executing": false
    }
   }
  },
  {
   "cell_type": "code",
   "execution_count": 7,
   "outputs": [
    {
     "name": "stdout",
     "text": [
      "        id  keyword  _index       date\n",
      "0        1       缤智  2699.0 2018-12-01\n",
      "1        2       缤智  2767.0 2018-12-02\n",
      "2        3       缤智  2866.0 2018-12-03\n",
      "3        4       缤智  2872.0 2018-12-04\n",
      "4        5       缤智  2739.0 2018-12-05\n",
      "5        6       缤智  2706.0 2018-12-06\n",
      "6        7       缤智  2584.0 2018-12-07\n",
      "7        8       缤智  2573.0 2018-12-08\n",
      "8        9       缤智  2502.0 2018-12-09\n",
      "9       10       缤智  2954.0 2018-12-10\n",
      "10      11       缤智  2635.0 2018-12-11\n",
      "11      12       缤智  2430.0 2018-12-12\n",
      "12      13       缤智  2606.0 2018-12-13\n",
      "13      14       缤智  2734.0 2018-12-14\n",
      "14      15       缤智  2642.0 2018-12-15\n",
      "15      16       缤智  2612.0 2018-12-16\n",
      "16      17       缤智  2915.0 2018-12-17\n",
      "17      18       缤智  2882.0 2018-12-18\n",
      "18      19       缤智  2685.0 2018-12-19\n",
      "19      20       缤智  2489.0 2018-12-20\n",
      "20      21       缤智  2691.0 2018-12-21\n",
      "21      22       缤智  2653.0 2018-12-22\n",
      "22      23       缤智  2643.0 2018-12-23\n",
      "23      24       缤智  3100.0 2018-12-24\n",
      "24      25       缤智  2811.0 2018-12-25\n",
      "25      26       缤智  2562.0 2018-12-26\n",
      "26      27       缤智  2626.0 2018-12-27\n",
      "27      28       缤智  2538.0 2018-12-28\n",
      "28      29       缤智  2408.0 2018-12-29\n",
      "29      30       缤智  2473.0 2018-12-30\n",
      "...    ...      ...     ...        ...\n",
      "6314  6315  T-cross     0.0 2018-11-01\n",
      "6315  6316  T-cross     0.0 2018-11-02\n",
      "6316  6317  T-cross     0.0 2018-11-03\n",
      "6317  6318  T-cross     0.0 2018-11-04\n",
      "6318  6319  T-cross     0.0 2018-11-05\n",
      "6319  6320  T-cross     0.0 2018-11-06\n",
      "6320  6321  T-cross     0.0 2018-11-07\n",
      "6321  6322  T-cross     0.0 2018-11-08\n",
      "6322  6323  T-cross     0.0 2018-11-09\n",
      "6323  6324  T-cross     0.0 2018-11-10\n",
      "6324  6325  T-cross     0.0 2018-11-11\n",
      "6325  6326  T-cross     0.0 2018-11-12\n",
      "6326  6327  T-cross     0.0 2018-11-13\n",
      "6327  6328  T-cross     0.0 2018-11-14\n",
      "6328  6329  T-cross     0.0 2018-11-15\n",
      "6329  6330  T-cross     0.0 2018-11-16\n",
      "6330  6331  T-cross     0.0 2018-11-17\n",
      "6331  6332  T-cross     0.0 2018-11-18\n",
      "6332  6333  T-cross     0.0 2018-11-19\n",
      "6333  6334  T-cross     0.0 2018-11-20\n",
      "6334  6335  T-cross     0.0 2018-11-21\n",
      "6335  6336  T-cross     0.0 2018-11-22\n",
      "6336  6337  T-cross     0.0 2018-11-23\n",
      "6337  6338  T-cross     0.0 2018-11-24\n",
      "6338  6339  T-cross     0.0 2018-11-25\n",
      "6339  6340  T-cross     0.0 2018-11-26\n",
      "6340  6341  T-cross     0.0 2018-11-27\n",
      "6341  6342  T-cross     0.0 2018-11-28\n",
      "6342  6343  T-cross     0.0 2018-11-29\n",
      "6343  6344  T-cross     0.0 2018-11-30\n",
      "\n",
      "[6344 rows x 4 columns]\n"
     ],
     "output_type": "stream"
    }
   ],
   "source": [
    "# 处理缺失值\n",
    "# print(index)\n",
    "index = index.fillna(0)\n",
    "print(index)\n"
   ],
   "metadata": {
    "collapsed": false,
    "pycharm": {
     "name": "#%%\n",
     "is_executing": false
    }
   }
  },
  {
   "cell_type": "code",
   "execution_count": 8,
   "outputs": [],
   "source": [
    "# 对data字段进行格式化处理\n",
    "index['date']=pd.to_datetime(index['date'])\n",
    "index['date']=index['date'].dt.strftime('%B')\n"
   ],
   "metadata": {
    "collapsed": false,
    "pycharm": {
     "name": "#%%\n",
     "is_executing": false
    }
   }
  },
  {
   "cell_type": "code",
   "execution_count": 9,
   "outputs": [],
   "source": [
    "# 对关键词字段进行统一处理\n",
    "index['keyword'] = index['keyword'].apply(lambda x:x.strip(' \\r\\n\\t').upper())"
   ],
   "metadata": {
    "collapsed": false,
    "pycharm": {
     "name": "#%%\n",
     "is_executing": false
    }
   }
  },
  {
   "cell_type": "code",
   "execution_count": 10,
   "outputs": [],
   "source": [
    "# 根据keyword，date对搜索指数进行分类汇总求和\n",
    "new_index_mean = index.groupby(['keyword','date'])['_index'].sum()\n"
   ],
   "metadata": {
    "collapsed": false,
    "pycharm": {
     "name": "#%%\n",
     "is_executing": false
    }
   }
  },
  {
   "cell_type": "code",
   "execution_count": 11,
   "outputs": [
    {
     "data": {
      "text/plain": "keyword     date    \nIX25        April        29144.0\n            December     32422.0\n            February     28511.0\n            January      32204.0\n            June           882.0\n            March        30081.0\n            May          27164.0\n            November     30810.0\n            October      31611.0\nT-CROSS     April       150414.0\n            December         0.0\n            February         0.0\n            January          0.0\n            June         29702.0\n            March        77619.0\n            May         120753.0\n            November         0.0\n            October          0.0\nXR-V        April         6656.0\n            December      7034.0\n            February      6835.0\n            January       6864.0\n            June           207.0\n            March         7227.0\n            May           7046.0\n            November      6745.0\n            October       7421.0\n三菱ASX       April         7067.0\n            December      6015.0\n            February      7012.0\n                          ...   \n长安CS15      May          28927.0\n            November     26988.0\n            October      28556.0\n长安CS35      April        74132.0\n            December    469865.0\n            February    118634.0\n            January     200485.0\n            June          2167.0\n            March       103712.0\n            May          78706.0\n            November    347321.0\n            October      92131.0\n长安CS35PLUS  April        49649.0\n            December    413372.0\n            February     50194.0\n            January      85418.0\n            June          1444.0\n            March        57344.0\n            May          54125.0\n            November    281566.0\n            October      42239.0\n雪铁龙C3-XR    April         7291.0\n            December      6717.0\n            February      7118.0\n            January       6622.0\n            June           184.0\n            March         9967.0\n            May           6419.0\n            November      6346.0\n            October       7757.0\nName: _index, Length: 234, dtype: float64"
     },
     "metadata": {},
     "output_type": "execute_result",
     "execution_count": 11
    }
   ],
   "source": [
    "# 展示结果\n",
    "new_index_mean"
   ],
   "metadata": {
    "collapsed": false,
    "pycharm": {
     "name": "#%%\n",
     "is_executing": false
    }
   }
  },
  {
   "cell_type": "markdown",
   "source": [
    "2、读取省份搜索指数数据"
   ],
   "metadata": {
    "collapsed": false
   }
  },
  {
   "cell_type": "code",
   "execution_count": 14,
   "outputs": [],
   "source": [
    "# 读取省份搜索指数数据\n",
    "prov_index = pd.read_excel('././././数据/province_index_0625.xlsx')\n"
   ],
   "metadata": {
    "collapsed": false,
    "pycharm": {
     "name": "#%%\n",
     "is_executing": false
    }
   }
  },
  {
   "cell_type": "code",
   "execution_count": 15,
   "outputs": [],
   "source": [
    "# 同样对日期进行格式化处理\n",
    "prov_index['date'] = prov_index['date'].apply(lambda x:x.split(\"|\")[0])\n",
    "prov_index['date'] = pd.to_datetime(prov_index['date'])# 格式化日期\n",
    "prov_index['date'] = prov_index['date'].dt.strftime('%B') # 将日期转换成月份\n"
   ],
   "metadata": {
    "collapsed": false,
    "pycharm": {
     "name": "#%%\n",
     "is_executing": false
    }
   }
  },
  {
   "cell_type": "code",
   "execution_count": 16,
   "outputs": [
    {
     "data": {
      "text/plain": "   id keyword  prov  prov_index      date\n0   1      缤智   913        1000  December\n1   2      缤智   901         272  December\n2   3      缤智   917         246  December\n3   4      缤智   916         234  December\n4   5      缤智   920         203  December",
      "text/html": "<div>\n<style scoped>\n    .dataframe tbody tr th:only-of-type {\n        vertical-align: middle;\n    }\n\n    .dataframe tbody tr th {\n        vertical-align: top;\n    }\n\n    .dataframe thead th {\n        text-align: right;\n    }\n</style>\n<table border=\"1\" class=\"dataframe\">\n  <thead>\n    <tr style=\"text-align: right;\">\n      <th></th>\n      <th>id</th>\n      <th>keyword</th>\n      <th>prov</th>\n      <th>prov_index</th>\n      <th>date</th>\n    </tr>\n  </thead>\n  <tbody>\n    <tr>\n      <th>0</th>\n      <td>1</td>\n      <td>缤智</td>\n      <td>913</td>\n      <td>1000</td>\n      <td>December</td>\n    </tr>\n    <tr>\n      <th>1</th>\n      <td>2</td>\n      <td>缤智</td>\n      <td>901</td>\n      <td>272</td>\n      <td>December</td>\n    </tr>\n    <tr>\n      <th>2</th>\n      <td>3</td>\n      <td>缤智</td>\n      <td>917</td>\n      <td>246</td>\n      <td>December</td>\n    </tr>\n    <tr>\n      <th>3</th>\n      <td>4</td>\n      <td>缤智</td>\n      <td>916</td>\n      <td>234</td>\n      <td>December</td>\n    </tr>\n    <tr>\n      <th>4</th>\n      <td>5</td>\n      <td>缤智</td>\n      <td>920</td>\n      <td>203</td>\n      <td>December</td>\n    </tr>\n  </tbody>\n</table>\n</div>"
     },
     "metadata": {},
     "output_type": "execute_result",
     "execution_count": 16
    }
   ],
   "source": [
    "# 对字段进行统一大写和去空格处理\n",
    "prov_index['keyword'] = prov_index['keyword'].apply(lambda x:x.strip(\" \\r\\n\\t\").upper())\n",
    "prov_index.head()"
   ],
   "metadata": {
    "collapsed": false,
    "pycharm": {
     "name": "#%%\n",
     "is_executing": false
    }
   }
  },
  {
   "cell_type": "code",
   "execution_count": 17,
   "outputs": [],
   "source": [
    "# 根据keyword，date对搜索指数进行分类汇总，得出假的全国搜索指数\n",
    "prov_index_sum = prov_index.groupby(['keyword','date'])['prov_index'].sum()\n"
   ],
   "metadata": {
    "collapsed": false,
    "pycharm": {
     "name": "#%%\n",
     "is_executing": false
    }
   }
  },
  {
   "cell_type": "code",
   "execution_count": 19,
   "outputs": [
    {
     "data": {
      "text/plain": "  keyword      date  prov_index\n0    IX25     April        7987\n1    IX25  December        8257\n2    IX25  February        8778\n3    IX25   January        9291\n4    IX25     March        8352",
      "text/html": "<div>\n<style scoped>\n    .dataframe tbody tr th:only-of-type {\n        vertical-align: middle;\n    }\n\n    .dataframe tbody tr th {\n        vertical-align: top;\n    }\n\n    .dataframe thead th {\n        text-align: right;\n    }\n</style>\n<table border=\"1\" class=\"dataframe\">\n  <thead>\n    <tr style=\"text-align: right;\">\n      <th></th>\n      <th>keyword</th>\n      <th>date</th>\n      <th>prov_index</th>\n    </tr>\n  </thead>\n  <tbody>\n    <tr>\n      <th>0</th>\n      <td>IX25</td>\n      <td>April</td>\n      <td>7987</td>\n    </tr>\n    <tr>\n      <th>1</th>\n      <td>IX25</td>\n      <td>December</td>\n      <td>8257</td>\n    </tr>\n    <tr>\n      <th>2</th>\n      <td>IX25</td>\n      <td>February</td>\n      <td>8778</td>\n    </tr>\n    <tr>\n      <th>3</th>\n      <td>IX25</td>\n      <td>January</td>\n      <td>9291</td>\n    </tr>\n    <tr>\n      <th>4</th>\n      <td>IX25</td>\n      <td>March</td>\n      <td>8352</td>\n    </tr>\n  </tbody>\n</table>\n</div>"
     },
     "metadata": {},
     "output_type": "execute_result",
     "execution_count": 19
    }
   ],
   "source": [
    "# 分类汇总后得到的是一个Series，因为需要合并DataFrame，所以进行reset_index()处理\n",
    "prov_index_sum = prov_index_sum.reset_index()\n",
    "prov_index_sum.head()"
   ],
   "metadata": {
    "collapsed": false,
    "pycharm": {
     "name": "#%%\n",
     "is_executing": false
    }
   }
  },
  {
   "cell_type": "code",
   "execution_count": 20,
   "outputs": [],
   "source": [
    "# 数据合并，将总和列合并到省份DF\n",
    "prov_index2 = pd.merge(prov_index,prov_index_sum,on=(\"keyword\",\"date\"))\n"
   ],
   "metadata": {
    "collapsed": false,
    "pycharm": {
     "name": "#%%\n",
     "is_executing": false
    }
   }
  },
  {
   "cell_type": "code",
   "execution_count": 21,
   "outputs": [
    {
     "data": {
      "text/plain": "   id keyword  prov  prov_index_x      date  prov_index_y       pct\n0   1      缤智   913          1000  December          4116  0.242954\n1   2      缤智   901           272  December          4116  0.066084\n2   3      缤智   917           246  December          4116  0.059767\n3   4      缤智   916           234  December          4116  0.056851\n4   5      缤智   920           203  December          4116  0.049320",
      "text/html": "<div>\n<style scoped>\n    .dataframe tbody tr th:only-of-type {\n        vertical-align: middle;\n    }\n\n    .dataframe tbody tr th {\n        vertical-align: top;\n    }\n\n    .dataframe thead th {\n        text-align: right;\n    }\n</style>\n<table border=\"1\" class=\"dataframe\">\n  <thead>\n    <tr style=\"text-align: right;\">\n      <th></th>\n      <th>id</th>\n      <th>keyword</th>\n      <th>prov</th>\n      <th>prov_index_x</th>\n      <th>date</th>\n      <th>prov_index_y</th>\n      <th>pct</th>\n    </tr>\n  </thead>\n  <tbody>\n    <tr>\n      <th>0</th>\n      <td>1</td>\n      <td>缤智</td>\n      <td>913</td>\n      <td>1000</td>\n      <td>December</td>\n      <td>4116</td>\n      <td>0.242954</td>\n    </tr>\n    <tr>\n      <th>1</th>\n      <td>2</td>\n      <td>缤智</td>\n      <td>901</td>\n      <td>272</td>\n      <td>December</td>\n      <td>4116</td>\n      <td>0.066084</td>\n    </tr>\n    <tr>\n      <th>2</th>\n      <td>3</td>\n      <td>缤智</td>\n      <td>917</td>\n      <td>246</td>\n      <td>December</td>\n      <td>4116</td>\n      <td>0.059767</td>\n    </tr>\n    <tr>\n      <th>3</th>\n      <td>4</td>\n      <td>缤智</td>\n      <td>916</td>\n      <td>234</td>\n      <td>December</td>\n      <td>4116</td>\n      <td>0.056851</td>\n    </tr>\n    <tr>\n      <th>4</th>\n      <td>5</td>\n      <td>缤智</td>\n      <td>920</td>\n      <td>203</td>\n      <td>December</td>\n      <td>4116</td>\n      <td>0.049320</td>\n    </tr>\n  </tbody>\n</table>\n</div>"
     },
     "metadata": {},
     "output_type": "execute_result",
     "execution_count": 21
    }
   ],
   "source": [
    "# 根据省月份平均搜索指数 / 全国月份平均搜索指数得出搜索所占比\n",
    "prov_index2['pct'] = prov_index2['prov_index_x'] / prov_index2['prov_index_y']\n",
    "prov_index2.head()"
   ],
   "metadata": {
    "collapsed": false,
    "pycharm": {
     "name": "#%%\n",
     "is_executing": false
    }
   }
  },
  {
   "cell_type": "code",
   "execution_count": 22,
   "outputs": [
    {
     "data": {
      "text/plain": "        keyword      date    _index\n0          IX25     April   29144.0\n1          IX25  December   32422.0\n2          IX25  February   28511.0\n3          IX25   January   32204.0\n4          IX25      June     882.0\n5          IX25     March   30081.0\n6          IX25       May   27164.0\n7          IX25  November   30810.0\n8          IX25   October   31611.0\n9       T-CROSS     April  150414.0\n10      T-CROSS  December       0.0\n11      T-CROSS  February       0.0\n12      T-CROSS   January       0.0\n13      T-CROSS      June   29702.0\n14      T-CROSS     March   77619.0\n15      T-CROSS       May  120753.0\n16      T-CROSS  November       0.0\n17      T-CROSS   October       0.0\n18         XR-V     April    6656.0\n19         XR-V  December    7034.0\n20         XR-V  February    6835.0\n21         XR-V   January    6864.0\n22         XR-V      June     207.0\n23         XR-V     March    7227.0\n24         XR-V       May    7046.0\n25         XR-V  November    6745.0\n26         XR-V   October    7421.0\n27        三菱ASX     April    7067.0\n28        三菱ASX  December    6015.0\n29        三菱ASX  February    7012.0\n..          ...       ...       ...\n204      长安CS15       May   28927.0\n205      长安CS15  November   26988.0\n206      长安CS15   October   28556.0\n207      长安CS35     April   74132.0\n208      长安CS35  December  469865.0\n209      长安CS35  February  118634.0\n210      长安CS35   January  200485.0\n211      长安CS35      June    2167.0\n212      长安CS35     March  103712.0\n213      长安CS35       May   78706.0\n214      长安CS35  November  347321.0\n215      长安CS35   October   92131.0\n216  长安CS35PLUS     April   49649.0\n217  长安CS35PLUS  December  413372.0\n218  长安CS35PLUS  February   50194.0\n219  长安CS35PLUS   January   85418.0\n220  长安CS35PLUS      June    1444.0\n221  长安CS35PLUS     March   57344.0\n222  长安CS35PLUS       May   54125.0\n223  长安CS35PLUS  November  281566.0\n224  长安CS35PLUS   October   42239.0\n225    雪铁龙C3-XR     April    7291.0\n226    雪铁龙C3-XR  December    6717.0\n227    雪铁龙C3-XR  February    7118.0\n228    雪铁龙C3-XR   January    6622.0\n229    雪铁龙C3-XR      June     184.0\n230    雪铁龙C3-XR     March    9967.0\n231    雪铁龙C3-XR       May    6419.0\n232    雪铁龙C3-XR  November    6346.0\n233    雪铁龙C3-XR   October    7757.0\n\n[234 rows x 3 columns]",
      "text/html": "<div>\n<style scoped>\n    .dataframe tbody tr th:only-of-type {\n        vertical-align: middle;\n    }\n\n    .dataframe tbody tr th {\n        vertical-align: top;\n    }\n\n    .dataframe thead th {\n        text-align: right;\n    }\n</style>\n<table border=\"1\" class=\"dataframe\">\n  <thead>\n    <tr style=\"text-align: right;\">\n      <th></th>\n      <th>keyword</th>\n      <th>date</th>\n      <th>_index</th>\n    </tr>\n  </thead>\n  <tbody>\n    <tr>\n      <th>0</th>\n      <td>IX25</td>\n      <td>April</td>\n      <td>29144.0</td>\n    </tr>\n    <tr>\n      <th>1</th>\n      <td>IX25</td>\n      <td>December</td>\n      <td>32422.0</td>\n    </tr>\n    <tr>\n      <th>2</th>\n      <td>IX25</td>\n      <td>February</td>\n      <td>28511.0</td>\n    </tr>\n    <tr>\n      <th>3</th>\n      <td>IX25</td>\n      <td>January</td>\n      <td>32204.0</td>\n    </tr>\n    <tr>\n      <th>4</th>\n      <td>IX25</td>\n      <td>June</td>\n      <td>882.0</td>\n    </tr>\n    <tr>\n      <th>5</th>\n      <td>IX25</td>\n      <td>March</td>\n      <td>30081.0</td>\n    </tr>\n    <tr>\n      <th>6</th>\n      <td>IX25</td>\n      <td>May</td>\n      <td>27164.0</td>\n    </tr>\n    <tr>\n      <th>7</th>\n      <td>IX25</td>\n      <td>November</td>\n      <td>30810.0</td>\n    </tr>\n    <tr>\n      <th>8</th>\n      <td>IX25</td>\n      <td>October</td>\n      <td>31611.0</td>\n    </tr>\n    <tr>\n      <th>9</th>\n      <td>T-CROSS</td>\n      <td>April</td>\n      <td>150414.0</td>\n    </tr>\n    <tr>\n      <th>10</th>\n      <td>T-CROSS</td>\n      <td>December</td>\n      <td>0.0</td>\n    </tr>\n    <tr>\n      <th>11</th>\n      <td>T-CROSS</td>\n      <td>February</td>\n      <td>0.0</td>\n    </tr>\n    <tr>\n      <th>12</th>\n      <td>T-CROSS</td>\n      <td>January</td>\n      <td>0.0</td>\n    </tr>\n    <tr>\n      <th>13</th>\n      <td>T-CROSS</td>\n      <td>June</td>\n      <td>29702.0</td>\n    </tr>\n    <tr>\n      <th>14</th>\n      <td>T-CROSS</td>\n      <td>March</td>\n      <td>77619.0</td>\n    </tr>\n    <tr>\n      <th>15</th>\n      <td>T-CROSS</td>\n      <td>May</td>\n      <td>120753.0</td>\n    </tr>\n    <tr>\n      <th>16</th>\n      <td>T-CROSS</td>\n      <td>November</td>\n      <td>0.0</td>\n    </tr>\n    <tr>\n      <th>17</th>\n      <td>T-CROSS</td>\n      <td>October</td>\n      <td>0.0</td>\n    </tr>\n    <tr>\n      <th>18</th>\n      <td>XR-V</td>\n      <td>April</td>\n      <td>6656.0</td>\n    </tr>\n    <tr>\n      <th>19</th>\n      <td>XR-V</td>\n      <td>December</td>\n      <td>7034.0</td>\n    </tr>\n    <tr>\n      <th>20</th>\n      <td>XR-V</td>\n      <td>February</td>\n      <td>6835.0</td>\n    </tr>\n    <tr>\n      <th>21</th>\n      <td>XR-V</td>\n      <td>January</td>\n      <td>6864.0</td>\n    </tr>\n    <tr>\n      <th>22</th>\n      <td>XR-V</td>\n      <td>June</td>\n      <td>207.0</td>\n    </tr>\n    <tr>\n      <th>23</th>\n      <td>XR-V</td>\n      <td>March</td>\n      <td>7227.0</td>\n    </tr>\n    <tr>\n      <th>24</th>\n      <td>XR-V</td>\n      <td>May</td>\n      <td>7046.0</td>\n    </tr>\n    <tr>\n      <th>25</th>\n      <td>XR-V</td>\n      <td>November</td>\n      <td>6745.0</td>\n    </tr>\n    <tr>\n      <th>26</th>\n      <td>XR-V</td>\n      <td>October</td>\n      <td>7421.0</td>\n    </tr>\n    <tr>\n      <th>27</th>\n      <td>三菱ASX</td>\n      <td>April</td>\n      <td>7067.0</td>\n    </tr>\n    <tr>\n      <th>28</th>\n      <td>三菱ASX</td>\n      <td>December</td>\n      <td>6015.0</td>\n    </tr>\n    <tr>\n      <th>29</th>\n      <td>三菱ASX</td>\n      <td>February</td>\n      <td>7012.0</td>\n    </tr>\n    <tr>\n      <th>...</th>\n      <td>...</td>\n      <td>...</td>\n      <td>...</td>\n    </tr>\n    <tr>\n      <th>204</th>\n      <td>长安CS15</td>\n      <td>May</td>\n      <td>28927.0</td>\n    </tr>\n    <tr>\n      <th>205</th>\n      <td>长安CS15</td>\n      <td>November</td>\n      <td>26988.0</td>\n    </tr>\n    <tr>\n      <th>206</th>\n      <td>长安CS15</td>\n      <td>October</td>\n      <td>28556.0</td>\n    </tr>\n    <tr>\n      <th>207</th>\n      <td>长安CS35</td>\n      <td>April</td>\n      <td>74132.0</td>\n    </tr>\n    <tr>\n      <th>208</th>\n      <td>长安CS35</td>\n      <td>December</td>\n      <td>469865.0</td>\n    </tr>\n    <tr>\n      <th>209</th>\n      <td>长安CS35</td>\n      <td>February</td>\n      <td>118634.0</td>\n    </tr>\n    <tr>\n      <th>210</th>\n      <td>长安CS35</td>\n      <td>January</td>\n      <td>200485.0</td>\n    </tr>\n    <tr>\n      <th>211</th>\n      <td>长安CS35</td>\n      <td>June</td>\n      <td>2167.0</td>\n    </tr>\n    <tr>\n      <th>212</th>\n      <td>长安CS35</td>\n      <td>March</td>\n      <td>103712.0</td>\n    </tr>\n    <tr>\n      <th>213</th>\n      <td>长安CS35</td>\n      <td>May</td>\n      <td>78706.0</td>\n    </tr>\n    <tr>\n      <th>214</th>\n      <td>长安CS35</td>\n      <td>November</td>\n      <td>347321.0</td>\n    </tr>\n    <tr>\n      <th>215</th>\n      <td>长安CS35</td>\n      <td>October</td>\n      <td>92131.0</td>\n    </tr>\n    <tr>\n      <th>216</th>\n      <td>长安CS35PLUS</td>\n      <td>April</td>\n      <td>49649.0</td>\n    </tr>\n    <tr>\n      <th>217</th>\n      <td>长安CS35PLUS</td>\n      <td>December</td>\n      <td>413372.0</td>\n    </tr>\n    <tr>\n      <th>218</th>\n      <td>长安CS35PLUS</td>\n      <td>February</td>\n      <td>50194.0</td>\n    </tr>\n    <tr>\n      <th>219</th>\n      <td>长安CS35PLUS</td>\n      <td>January</td>\n      <td>85418.0</td>\n    </tr>\n    <tr>\n      <th>220</th>\n      <td>长安CS35PLUS</td>\n      <td>June</td>\n      <td>1444.0</td>\n    </tr>\n    <tr>\n      <th>221</th>\n      <td>长安CS35PLUS</td>\n      <td>March</td>\n      <td>57344.0</td>\n    </tr>\n    <tr>\n      <th>222</th>\n      <td>长安CS35PLUS</td>\n      <td>May</td>\n      <td>54125.0</td>\n    </tr>\n    <tr>\n      <th>223</th>\n      <td>长安CS35PLUS</td>\n      <td>November</td>\n      <td>281566.0</td>\n    </tr>\n    <tr>\n      <th>224</th>\n      <td>长安CS35PLUS</td>\n      <td>October</td>\n      <td>42239.0</td>\n    </tr>\n    <tr>\n      <th>225</th>\n      <td>雪铁龙C3-XR</td>\n      <td>April</td>\n      <td>7291.0</td>\n    </tr>\n    <tr>\n      <th>226</th>\n      <td>雪铁龙C3-XR</td>\n      <td>December</td>\n      <td>6717.0</td>\n    </tr>\n    <tr>\n      <th>227</th>\n      <td>雪铁龙C3-XR</td>\n      <td>February</td>\n      <td>7118.0</td>\n    </tr>\n    <tr>\n      <th>228</th>\n      <td>雪铁龙C3-XR</td>\n      <td>January</td>\n      <td>6622.0</td>\n    </tr>\n    <tr>\n      <th>229</th>\n      <td>雪铁龙C3-XR</td>\n      <td>June</td>\n      <td>184.0</td>\n    </tr>\n    <tr>\n      <th>230</th>\n      <td>雪铁龙C3-XR</td>\n      <td>March</td>\n      <td>9967.0</td>\n    </tr>\n    <tr>\n      <th>231</th>\n      <td>雪铁龙C3-XR</td>\n      <td>May</td>\n      <td>6419.0</td>\n    </tr>\n    <tr>\n      <th>232</th>\n      <td>雪铁龙C3-XR</td>\n      <td>November</td>\n      <td>6346.0</td>\n    </tr>\n    <tr>\n      <th>233</th>\n      <td>雪铁龙C3-XR</td>\n      <td>October</td>\n      <td>7757.0</td>\n    </tr>\n  </tbody>\n</table>\n<p>234 rows × 3 columns</p>\n</div>"
     },
     "metadata": {},
     "output_type": "execute_result",
     "execution_count": 22
    }
   ],
   "source": [
    "new_index_mean = new_index_mean.reset_index()\n",
    "new_index_mean"
   ],
   "metadata": {
    "collapsed": false,
    "pycharm": {
     "name": "#%%\n",
     "is_executing": false
    }
   }
  },
  {
   "cell_type": "code",
   "execution_count": 24,
   "outputs": [],
   "source": [
    "# 将真实全国搜索指数合并到省份表\n",
    "prov_index_final = pd.merge(prov_index2,new_index_mean,on=('keyword','date'))\n"
   ],
   "metadata": {
    "collapsed": false,
    "pycharm": {
     "name": "#%%\n",
     "is_executing": false
    }
   }
  },
  {
   "cell_type": "code",
   "execution_count": 25,
   "outputs": [
    {
     "data": {
      "text/plain": "   id keyword  prov  prov_index_x      date  prov_index_y       pct   _index  \\\n0   1      缤智   913          1000  December          4116  0.242954  82882.0   \n1   2      缤智   901           272  December          4116  0.066084  82882.0   \n2   3      缤智   917           246  December          4116  0.059767  82882.0   \n3   4      缤智   916           234  December          4116  0.056851  82882.0   \n4   5      缤智   920           203  December          4116  0.049320  82882.0   \n\n   real_prov_index  \n0     20136.540330  \n1      5477.138970  \n2      4953.588921  \n3      4711.950437  \n4      4087.717687  ",
      "text/html": "<div>\n<style scoped>\n    .dataframe tbody tr th:only-of-type {\n        vertical-align: middle;\n    }\n\n    .dataframe tbody tr th {\n        vertical-align: top;\n    }\n\n    .dataframe thead th {\n        text-align: right;\n    }\n</style>\n<table border=\"1\" class=\"dataframe\">\n  <thead>\n    <tr style=\"text-align: right;\">\n      <th></th>\n      <th>id</th>\n      <th>keyword</th>\n      <th>prov</th>\n      <th>prov_index_x</th>\n      <th>date</th>\n      <th>prov_index_y</th>\n      <th>pct</th>\n      <th>_index</th>\n      <th>real_prov_index</th>\n    </tr>\n  </thead>\n  <tbody>\n    <tr>\n      <th>0</th>\n      <td>1</td>\n      <td>缤智</td>\n      <td>913</td>\n      <td>1000</td>\n      <td>December</td>\n      <td>4116</td>\n      <td>0.242954</td>\n      <td>82882.0</td>\n      <td>20136.540330</td>\n    </tr>\n    <tr>\n      <th>1</th>\n      <td>2</td>\n      <td>缤智</td>\n      <td>901</td>\n      <td>272</td>\n      <td>December</td>\n      <td>4116</td>\n      <td>0.066084</td>\n      <td>82882.0</td>\n      <td>5477.138970</td>\n    </tr>\n    <tr>\n      <th>2</th>\n      <td>3</td>\n      <td>缤智</td>\n      <td>917</td>\n      <td>246</td>\n      <td>December</td>\n      <td>4116</td>\n      <td>0.059767</td>\n      <td>82882.0</td>\n      <td>4953.588921</td>\n    </tr>\n    <tr>\n      <th>3</th>\n      <td>4</td>\n      <td>缤智</td>\n      <td>916</td>\n      <td>234</td>\n      <td>December</td>\n      <td>4116</td>\n      <td>0.056851</td>\n      <td>82882.0</td>\n      <td>4711.950437</td>\n    </tr>\n    <tr>\n      <th>4</th>\n      <td>5</td>\n      <td>缤智</td>\n      <td>920</td>\n      <td>203</td>\n      <td>December</td>\n      <td>4116</td>\n      <td>0.049320</td>\n      <td>82882.0</td>\n      <td>4087.717687</td>\n    </tr>\n  </tbody>\n</table>\n</div>"
     },
     "metadata": {},
     "output_type": "execute_result",
     "execution_count": 25
    }
   ],
   "source": [
    "# 省份占比 * 真实搜索指数 = 省份真实搜索指数\n",
    "prov_index_final['real_prov_index'] = prov_index_final['pct'] * prov_index_final['_index']\n",
    "prov_index_final.head()"
   ],
   "metadata": {
    "collapsed": false,
    "pycharm": {
     "name": "#%%\n",
     "is_executing": false
    }
   }
  },
  {
   "cell_type": "code",
   "execution_count": 26,
   "outputs": [],
   "source": [
    "# 省份在这里是以ID的形式展示出来，需要将其与省份ID对照表合并\n",
    "prov_index_final = pd.merge(prov_index_final,prov_id,left_on=\"prov\",right_on=\"id\")\n"
   ],
   "metadata": {
    "collapsed": false,
    "pycharm": {
     "name": "#%%\n",
     "is_executing": false
    }
   }
  },
  {
   "cell_type": "code",
   "execution_count": 27,
   "outputs": [],
   "source": [
    "# 输出成excel\n",
    "prov_index_final.to_excel('prov_index_final.xlsx')\n",
    "\n"
   ],
   "metadata": {
    "collapsed": false,
    "pycharm": {
     "name": "#%%\n",
     "is_executing": false
    }
   }
  }
 ],
 "metadata": {
  "kernelspec": {
   "display_name": "Python 3",
   "language": "python",
   "name": "python3"
  },
  "language_info": {
   "codemirror_mode": {
    "name": "ipython",
    "version": 2
   },
   "file_extension": ".py",
   "mimetype": "text/x-python",
   "name": "python",
   "nbconvert_exporter": "python",
   "pygments_lexer": "ipython2",
   "version": "2.7.6"
  },
  "pycharm": {
   "stem_cell": {
    "cell_type": "raw",
    "source": [],
    "metadata": {
     "collapsed": false
    }
   }
  }
 },
 "nbformat": 4,
 "nbformat_minor": 0
}