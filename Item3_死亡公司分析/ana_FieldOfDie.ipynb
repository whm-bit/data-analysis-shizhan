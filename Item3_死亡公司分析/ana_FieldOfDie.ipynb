{
 "cells": [
  {
   "cell_type": "code",
   "execution_count": 1,
   "metadata": {
    "collapsed": true,
    "pycharm": {
     "is_executing": false
    }
   },
   "outputs": [
    {
     "name": "stderr",
     "text": [
      "D:\\SoftwareInstallation\\python_Anaconda\\lib\\site-packages\\ipykernel\\parentpoller.py:116: UserWarning: Parent poll failed.  If the frontend dies,\n",
      "                the kernel may be left running.  Please let us know\n",
      "                about your system (bitness, Python, etc.) at\n",
      "                ipython-dev@scipy.org\n",
      "  ipython-dev@scipy.org\"\"\")\n",
      "ERROR:lml.utils:failed to import pyecharts_snapshot\n",
      "Traceback (most recent call last):\n",
      "  File \"D:\\SoftwareInstallation\\python_Anaconda\\lib\\site-packages\\lml\\utils.py\", line 43, in do_import\n",
      "    plugin_module = __import__(plugin_module_name)\n",
      "ModuleNotFoundError: No module named 'pyecharts_snapshot'\n"
     ],
     "output_type": "stream"
    }
   ],
   "source": [
    "import numpy as np\n",
    "import pandas as pd\n",
    "from pyecharts import WordCloud"
   ]
  },
  {
   "cell_type": "code",
   "execution_count": 2,
   "outputs": [],
   "source": [
    "df = pd.read_csv(\"company_data.csv\",encoding=\"utf-8\")\n",
    "t = df.iloc[:,6] # 第六个字段是领域-5，第七个字段是地区-6\n",
    "t1 = t.copy()"
   ],
   "metadata": {
    "collapsed": false,
    "pycharm": {
     "name": "#%%\n",
     "is_executing": false
    }
   }
  },
  {
   "cell_type": "code",
   "execution_count": 3,
   "outputs": [],
   "source": [
    "all_data = []\n",
    "for i_word in t1:\n",
    "    all_data.append(i_word)"
   ],
   "metadata": {
    "collapsed": false,
    "pycharm": {
     "name": "#%%\n",
     "is_executing": false
    }
   }
  },
  {
   "cell_type": "code",
   "execution_count": 4,
   "outputs": [],
   "source": [
    "res = pd.DataFrame(all_data,columns=[\"word\"])\n",
    "res = res[\"word\"].groupby(res[\"word\"]).count()\n",
    "res.index.name=\"name\"\n",
    "res = res.reset_index()\n",
    "\n",
    "name = res[\"name\"].tolist()\n",
    "numbers = res[\"word\"].tolist()\n",
    "\n",
    "wc = WordCloud(width=1300,height=650)\n",
    "wc.add(\"\",name,numbers,word_size_range=[20,100])\n",
    "wc.render(\"死亡公司的地区分析.html\")\n",
    "# 第六个字段是领域- 5，第七个字段是地区- 6\n",
    "\n"
   ],
   "metadata": {
    "collapsed": false,
    "pycharm": {
     "name": "#%%\n",
     "is_executing": false
    }
   }
  }
 ],
 "metadata": {
  "kernelspec": {
   "display_name": "Python 3",
   "language": "python",
   "name": "python3"
  },
  "language_info": {
   "codemirror_mode": {
    "name": "ipython",
    "version": 2
   },
   "file_extension": ".py",
   "mimetype": "text/x-python",
   "name": "python",
   "nbconvert_exporter": "python",
   "pygments_lexer": "ipython2",
   "version": "2.7.6"
  },
  "pycharm": {
   "stem_cell": {
    "cell_type": "raw",
    "source": [],
    "metadata": {
     "collapsed": false
    }
   }
  }
 },
 "nbformat": 4,
 "nbformat_minor": 0
}