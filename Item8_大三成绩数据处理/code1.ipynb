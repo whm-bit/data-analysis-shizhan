{
 "cells": [
  {
   "cell_type": "code",
   "execution_count": 2,
   "metadata": {
    "collapsed": true,
    "pycharm": {
     "is_executing": false
    }
   },
   "outputs": [],
   "source": [
    "import numpy as np\n",
    "import pandas as pd\n"
   ]
  },
  {
   "cell_type": "code",
   "execution_count": 3,
   "outputs": [
    {
     "data": {
      "text/plain": "    序号              学号   姓名  大三上信息安全基础  大三上离散数学  大三上信息系统安全综合实践  大三上面向对象设计java  \\\n0    1  20171506210301   王昕         75       67             85             73   \n1    2  20171506210302  田明阳         73       50             83             83   \n2    3  20171506210303  田淑雅         97       89             87             87   \n3    4  20171506210304  鲁金坡         77       64             82             81   \n4    5  20171506210305  薛一涵         80       79             87             85   \n5    6  20171506210307  吕梦珂         77       80             83             85   \n6    7  20171506210308  张义帆         73       72             87             83   \n7    8  20171506210310   石闯         75       66             78             82   \n8    9  20171506210311   闫欣         80       84             80             82   \n9   10  20171506210313  原琓珂         89       75             83             87   \n10  11  20171506210314  马振宇         69       71             87             78   \n11  12  20171506210315  栗彬焱         72       85             87             83   \n12  13  20171506210317  赵道浩         79       92             90             80   \n13  14  20171506210318  赵兴宇         90       75             90             85   \n14  15  20171506210319  李丙豪         76       85             83             83   \n15  16  20171506210320   梁爽         90       75             83             88   \n16  17  20171506210321   雷蕾         78       85             77             82   \n17  18  20171506210322  谭博博         73       71             77             78   \n18  19  20171506210323  牛梦迪         97       91             87             82   \n19  20  20171506210324  宋俊洋         70       71             78             74   \n20  21  20171506210325  游慧新         78       68             80             83   \n21  22  20171506210326  梁怡涵         80       64             77             87   \n22  23  20171506210327  李景帅         74       67             82             77   \n23  24  20171506210328  韩盼盼         74       78             83             82   \n24  25  20171506210329  王会猛         92       80             90             96   \n25  26  20171506210330  吴作栋         78       81             87             78   \n26  27  20171506210331  王金来         82       87             83             81   \n27  28  20171506210332   刘畅         84       86             82             81   \n28  29  20171506210333   余娟         92       87             87             84   \n29  30  20171506210334  王海洋         75       88             82             87   \n30  31  20171506210335   牛豪         86       84             83             81   \n31  32  20171506210336  张传鑫         80       81             83             88   \n32  33  20171506210337   杨聪         71       87             83             85   \n33  34  20171506210338  赵富萍         78       81             80             80   \n34  35  20171506210339  朱怀昌         78       90             85             81   \n35  36  20171506210340  付园园         73       70             83             85   \n36  37  20171506210341  杨玉冰         94       91             87             93   \n37  38  20171506210342  赵佳伟         72       68             82             79   \n38  39  20171506210343  洪海通         74       78             82             84   \n39  40  20171506210344  王义菊         86       86             87             89   \n40  41  20171506210345  陈小龙         72       71             83             93   \n41  42  20171506210346  黄延鑫         92       87             90             96   \n42  43  20171506210347  芦梦晗         85       96             83             82   \n43  44  20171506210348  杨菊会         90       99             87             85   \n44  45  20171506210349  丁红帅         77       66             87             78   \n\n    大三上linux系统管理  大三上python机器学习基础  大三上互联网金融  ...   大三上云计算系统平台综合实践  大三上云计算技术基础  \\\n0             83               86        60  ...               77          86   \n1             78               83        69  ...               78          85   \n2             80               87        89  ...               80          87   \n3             65               78        80  ...               79          83   \n4             67               78        76  ...               79          83   \n5             79               88        80  ...               79          84   \n6             67               88        71  ...               76          81   \n7             83               86        75  ...               77          83   \n8             85               91        72  ...               78          93   \n9             80               96        79  ...               77          96   \n10            80               85        72  ...              100          83   \n11            87               82        76  ...               75          81   \n12            79               83        74  ...               76          80   \n13            91               96        86  ...              100          95   \n14            79               83        67  ...               75          84   \n15            68               93        74  ...               79          90   \n16            67               92        82  ...              100          93   \n17            79               76        71  ...               77          77   \n18            74               87        83  ...              100          80   \n19            82               77        65  ...               78          77   \n20            79               80        77  ...               79          79   \n21            66               95        69  ...               81          96   \n22            77               75        71  ...               80          76   \n23            77               93        77  ...               89          91   \n24            85               76        72  ...               83          76   \n25            69               76        77  ...               84          75   \n26            71               76        78  ...              100          76   \n27            84               82        70  ...              100          78   \n28            86               81        75  ...               88          78   \n29            77               87        75  ...               87          79   \n30            77               83        77  ...              100          79   \n31            85               83        75  ...               86          87   \n32            76               82        66  ...               98          79   \n33            69               86        76  ...               80          82   \n34            69               81        80  ...               79          82   \n35            77               93        72  ...               80          92   \n36            85               92        66  ...               98          90   \n37            76               78        72  ...               76          78   \n38            69               78        74  ...               86          81   \n39            84               94        76  ...               96          88   \n40            83               76        73  ...               89          77   \n41            84               80        72  ...               88          87   \n42            96               86        77  ...               98          88   \n43            78               94        82  ...               88          86   \n44            76               91        79  ...               75          91   \n\n    大三下软件工程  大三下数据仓库与数据挖掘  大三下java云端编程  大三下python自然语言处理  大三下网络安全技术  大三下大学物理2  \\\n0        62            83           76               79         73        68   \n1        76            83           83               76         84        79   \n2        67            85           92               78         96        87   \n3        71            87           88               75         79        83   \n4        85            87           97               77         88        89   \n5        71            90           77               74         79        80   \n6        72            87           85               76         62        86   \n7        61            87           87               78         79        80   \n8        85            87           94               77         94        89   \n9        57            86           89               77         88        71   \n10       62            83           77               77         76        73   \n11       81            90           88               73         83        88   \n12       81            88           94               76         89        88   \n13       88            86           89               77         83        83   \n14       58            87           95               79         87        80   \n15       69            85           83               79         93        77   \n16       75            88           94               79         90        91   \n17       77            87           90               77         87        80   \n18       74            87           94               79         96        94   \n19       74            85           92               78         86        75   \n20       59            86           79               79         80        81   \n21       65            87           81               80         92        67   \n22       68            83           79               80         87        70   \n23       79            89           96               75         91        93   \n24       69            87           92               79         89        87   \n25       69            86           95               74         77        91   \n26       59            86           84               78         90        75   \n27       61            83           91               75         85        85   \n28       63            86           91               77         88        91   \n29       72            86           88               78         77        88   \n30       64            89           92               79         80        89   \n31       75            85           87               80         88        89   \n32       68            87           94               79         81        83   \n33       81            87           87               80         87        83   \n34       83            85           97               79         88        88   \n35       70            83           94               79         76        83   \n36       75            87           92               78         78        86   \n37       73            86           76               79         81        71   \n38       79            86           89               79         78        76   \n39       78            85           94               78         76        85   \n40       76            85           78               77         77        65   \n41       79            88           97               77         89        87   \n42       79            86           94               75         93        88   \n43       73            86           96               78         96        94   \n44       66            87           94               78         91        85   \n\n    大三下编译原理    总分  \n0        65  1424  \n1        63  1473  \n2        80  1610  \n3        81  1498  \n4        81  1564  \n5        76  1531  \n6        62  1475  \n7        49  1460  \n8        80  1605  \n9        73  1538  \n10       67  1480  \n11       76  1554  \n12       76  1563  \n13       83  1647  \n14       65  1500  \n15       75  1543  \n16       76  1606  \n17       72  1483  \n18       87  1650  \n19       70  1476  \n20       70  1478  \n21       70  1504  \n22       71  1456  \n23       81  1602  \n24       78  1580  \n25       76  1513  \n26       79  1533  \n27       73  1554  \n28       76  1574  \n29       77  1549  \n30       84  1571  \n31       78  1581  \n32       75  1533  \n33       77  1537  \n34       77  1572  \n35       69  1515  \n36       74  1615  \n37       73  1467  \n38       71  1517  \n39       76  1611  \n40       74  1501  \n41       75  1619  \n42       86  1647  \n43       90  1663  \n44       74  1548  \n\n[45 rows x 23 columns]",
      "text/html": "<div>\n<style scoped>\n    .dataframe tbody tr th:only-of-type {\n        vertical-align: middle;\n    }\n\n    .dataframe tbody tr th {\n        vertical-align: top;\n    }\n\n    .dataframe thead th {\n        text-align: right;\n    }\n</style>\n<table border=\"1\" class=\"dataframe\">\n  <thead>\n    <tr style=\"text-align: right;\">\n      <th></th>\n      <th>序号</th>\n      <th>学号</th>\n      <th>姓名</th>\n      <th>大三上信息安全基础</th>\n      <th>大三上离散数学</th>\n      <th>大三上信息系统安全综合实践</th>\n      <th>大三上面向对象设计java</th>\n      <th>大三上linux系统管理</th>\n      <th>大三上python机器学习基础</th>\n      <th>大三上互联网金融</th>\n      <th>...</th>\n      <th>大三上云计算系统平台综合实践</th>\n      <th>大三上云计算技术基础</th>\n      <th>大三下软件工程</th>\n      <th>大三下数据仓库与数据挖掘</th>\n      <th>大三下java云端编程</th>\n      <th>大三下python自然语言处理</th>\n      <th>大三下网络安全技术</th>\n      <th>大三下大学物理2</th>\n      <th>大三下编译原理</th>\n      <th>总分</th>\n    </tr>\n  </thead>\n  <tbody>\n    <tr>\n      <th>0</th>\n      <td>1</td>\n      <td>20171506210301</td>\n      <td>王昕</td>\n      <td>75</td>\n      <td>67</td>\n      <td>85</td>\n      <td>73</td>\n      <td>83</td>\n      <td>86</td>\n      <td>60</td>\n      <td>...</td>\n      <td>77</td>\n      <td>86</td>\n      <td>62</td>\n      <td>83</td>\n      <td>76</td>\n      <td>79</td>\n      <td>73</td>\n      <td>68</td>\n      <td>65</td>\n      <td>1424</td>\n    </tr>\n    <tr>\n      <th>1</th>\n      <td>2</td>\n      <td>20171506210302</td>\n      <td>田明阳</td>\n      <td>73</td>\n      <td>50</td>\n      <td>83</td>\n      <td>83</td>\n      <td>78</td>\n      <td>83</td>\n      <td>69</td>\n      <td>...</td>\n      <td>78</td>\n      <td>85</td>\n      <td>76</td>\n      <td>83</td>\n      <td>83</td>\n      <td>76</td>\n      <td>84</td>\n      <td>79</td>\n      <td>63</td>\n      <td>1473</td>\n    </tr>\n    <tr>\n      <th>2</th>\n      <td>3</td>\n      <td>20171506210303</td>\n      <td>田淑雅</td>\n      <td>97</td>\n      <td>89</td>\n      <td>87</td>\n      <td>87</td>\n      <td>80</td>\n      <td>87</td>\n      <td>89</td>\n      <td>...</td>\n      <td>80</td>\n      <td>87</td>\n      <td>67</td>\n      <td>85</td>\n      <td>92</td>\n      <td>78</td>\n      <td>96</td>\n      <td>87</td>\n      <td>80</td>\n      <td>1610</td>\n    </tr>\n    <tr>\n      <th>3</th>\n      <td>4</td>\n      <td>20171506210304</td>\n      <td>鲁金坡</td>\n      <td>77</td>\n      <td>64</td>\n      <td>82</td>\n      <td>81</td>\n      <td>65</td>\n      <td>78</td>\n      <td>80</td>\n      <td>...</td>\n      <td>79</td>\n      <td>83</td>\n      <td>71</td>\n      <td>87</td>\n      <td>88</td>\n      <td>75</td>\n      <td>79</td>\n      <td>83</td>\n      <td>81</td>\n      <td>1498</td>\n    </tr>\n    <tr>\n      <th>4</th>\n      <td>5</td>\n      <td>20171506210305</td>\n      <td>薛一涵</td>\n      <td>80</td>\n      <td>79</td>\n      <td>87</td>\n      <td>85</td>\n      <td>67</td>\n      <td>78</td>\n      <td>76</td>\n      <td>...</td>\n      <td>79</td>\n      <td>83</td>\n      <td>85</td>\n      <td>87</td>\n      <td>97</td>\n      <td>77</td>\n      <td>88</td>\n      <td>89</td>\n      <td>81</td>\n      <td>1564</td>\n    </tr>\n    <tr>\n      <th>5</th>\n      <td>6</td>\n      <td>20171506210307</td>\n      <td>吕梦珂</td>\n      <td>77</td>\n      <td>80</td>\n      <td>83</td>\n      <td>85</td>\n      <td>79</td>\n      <td>88</td>\n      <td>80</td>\n      <td>...</td>\n      <td>79</td>\n      <td>84</td>\n      <td>71</td>\n      <td>90</td>\n      <td>77</td>\n      <td>74</td>\n      <td>79</td>\n      <td>80</td>\n      <td>76</td>\n      <td>1531</td>\n    </tr>\n    <tr>\n      <th>6</th>\n      <td>7</td>\n      <td>20171506210308</td>\n      <td>张义帆</td>\n      <td>73</td>\n      <td>72</td>\n      <td>87</td>\n      <td>83</td>\n      <td>67</td>\n      <td>88</td>\n      <td>71</td>\n      <td>...</td>\n      <td>76</td>\n      <td>81</td>\n      <td>72</td>\n      <td>87</td>\n      <td>85</td>\n      <td>76</td>\n      <td>62</td>\n      <td>86</td>\n      <td>62</td>\n      <td>1475</td>\n    </tr>\n    <tr>\n      <th>7</th>\n      <td>8</td>\n      <td>20171506210310</td>\n      <td>石闯</td>\n      <td>75</td>\n      <td>66</td>\n      <td>78</td>\n      <td>82</td>\n      <td>83</td>\n      <td>86</td>\n      <td>75</td>\n      <td>...</td>\n      <td>77</td>\n      <td>83</td>\n      <td>61</td>\n      <td>87</td>\n      <td>87</td>\n      <td>78</td>\n      <td>79</td>\n      <td>80</td>\n      <td>49</td>\n      <td>1460</td>\n    </tr>\n    <tr>\n      <th>8</th>\n      <td>9</td>\n      <td>20171506210311</td>\n      <td>闫欣</td>\n      <td>80</td>\n      <td>84</td>\n      <td>80</td>\n      <td>82</td>\n      <td>85</td>\n      <td>91</td>\n      <td>72</td>\n      <td>...</td>\n      <td>78</td>\n      <td>93</td>\n      <td>85</td>\n      <td>87</td>\n      <td>94</td>\n      <td>77</td>\n      <td>94</td>\n      <td>89</td>\n      <td>80</td>\n      <td>1605</td>\n    </tr>\n    <tr>\n      <th>9</th>\n      <td>10</td>\n      <td>20171506210313</td>\n      <td>原琓珂</td>\n      <td>89</td>\n      <td>75</td>\n      <td>83</td>\n      <td>87</td>\n      <td>80</td>\n      <td>96</td>\n      <td>79</td>\n      <td>...</td>\n      <td>77</td>\n      <td>96</td>\n      <td>57</td>\n      <td>86</td>\n      <td>89</td>\n      <td>77</td>\n      <td>88</td>\n      <td>71</td>\n      <td>73</td>\n      <td>1538</td>\n    </tr>\n    <tr>\n      <th>10</th>\n      <td>11</td>\n      <td>20171506210314</td>\n      <td>马振宇</td>\n      <td>69</td>\n      <td>71</td>\n      <td>87</td>\n      <td>78</td>\n      <td>80</td>\n      <td>85</td>\n      <td>72</td>\n      <td>...</td>\n      <td>100</td>\n      <td>83</td>\n      <td>62</td>\n      <td>83</td>\n      <td>77</td>\n      <td>77</td>\n      <td>76</td>\n      <td>73</td>\n      <td>67</td>\n      <td>1480</td>\n    </tr>\n    <tr>\n      <th>11</th>\n      <td>12</td>\n      <td>20171506210315</td>\n      <td>栗彬焱</td>\n      <td>72</td>\n      <td>85</td>\n      <td>87</td>\n      <td>83</td>\n      <td>87</td>\n      <td>82</td>\n      <td>76</td>\n      <td>...</td>\n      <td>75</td>\n      <td>81</td>\n      <td>81</td>\n      <td>90</td>\n      <td>88</td>\n      <td>73</td>\n      <td>83</td>\n      <td>88</td>\n      <td>76</td>\n      <td>1554</td>\n    </tr>\n    <tr>\n      <th>12</th>\n      <td>13</td>\n      <td>20171506210317</td>\n      <td>赵道浩</td>\n      <td>79</td>\n      <td>92</td>\n      <td>90</td>\n      <td>80</td>\n      <td>79</td>\n      <td>83</td>\n      <td>74</td>\n      <td>...</td>\n      <td>76</td>\n      <td>80</td>\n      <td>81</td>\n      <td>88</td>\n      <td>94</td>\n      <td>76</td>\n      <td>89</td>\n      <td>88</td>\n      <td>76</td>\n      <td>1563</td>\n    </tr>\n    <tr>\n      <th>13</th>\n      <td>14</td>\n      <td>20171506210318</td>\n      <td>赵兴宇</td>\n      <td>90</td>\n      <td>75</td>\n      <td>90</td>\n      <td>85</td>\n      <td>91</td>\n      <td>96</td>\n      <td>86</td>\n      <td>...</td>\n      <td>100</td>\n      <td>95</td>\n      <td>88</td>\n      <td>86</td>\n      <td>89</td>\n      <td>77</td>\n      <td>83</td>\n      <td>83</td>\n      <td>83</td>\n      <td>1647</td>\n    </tr>\n    <tr>\n      <th>14</th>\n      <td>15</td>\n      <td>20171506210319</td>\n      <td>李丙豪</td>\n      <td>76</td>\n      <td>85</td>\n      <td>83</td>\n      <td>83</td>\n      <td>79</td>\n      <td>83</td>\n      <td>67</td>\n      <td>...</td>\n      <td>75</td>\n      <td>84</td>\n      <td>58</td>\n      <td>87</td>\n      <td>95</td>\n      <td>79</td>\n      <td>87</td>\n      <td>80</td>\n      <td>65</td>\n      <td>1500</td>\n    </tr>\n    <tr>\n      <th>15</th>\n      <td>16</td>\n      <td>20171506210320</td>\n      <td>梁爽</td>\n      <td>90</td>\n      <td>75</td>\n      <td>83</td>\n      <td>88</td>\n      <td>68</td>\n      <td>93</td>\n      <td>74</td>\n      <td>...</td>\n      <td>79</td>\n      <td>90</td>\n      <td>69</td>\n      <td>85</td>\n      <td>83</td>\n      <td>79</td>\n      <td>93</td>\n      <td>77</td>\n      <td>75</td>\n      <td>1543</td>\n    </tr>\n    <tr>\n      <th>16</th>\n      <td>17</td>\n      <td>20171506210321</td>\n      <td>雷蕾</td>\n      <td>78</td>\n      <td>85</td>\n      <td>77</td>\n      <td>82</td>\n      <td>67</td>\n      <td>92</td>\n      <td>82</td>\n      <td>...</td>\n      <td>100</td>\n      <td>93</td>\n      <td>75</td>\n      <td>88</td>\n      <td>94</td>\n      <td>79</td>\n      <td>90</td>\n      <td>91</td>\n      <td>76</td>\n      <td>1606</td>\n    </tr>\n    <tr>\n      <th>17</th>\n      <td>18</td>\n      <td>20171506210322</td>\n      <td>谭博博</td>\n      <td>73</td>\n      <td>71</td>\n      <td>77</td>\n      <td>78</td>\n      <td>79</td>\n      <td>76</td>\n      <td>71</td>\n      <td>...</td>\n      <td>77</td>\n      <td>77</td>\n      <td>77</td>\n      <td>87</td>\n      <td>90</td>\n      <td>77</td>\n      <td>87</td>\n      <td>80</td>\n      <td>72</td>\n      <td>1483</td>\n    </tr>\n    <tr>\n      <th>18</th>\n      <td>19</td>\n      <td>20171506210323</td>\n      <td>牛梦迪</td>\n      <td>97</td>\n      <td>91</td>\n      <td>87</td>\n      <td>82</td>\n      <td>74</td>\n      <td>87</td>\n      <td>83</td>\n      <td>...</td>\n      <td>100</td>\n      <td>80</td>\n      <td>74</td>\n      <td>87</td>\n      <td>94</td>\n      <td>79</td>\n      <td>96</td>\n      <td>94</td>\n      <td>87</td>\n      <td>1650</td>\n    </tr>\n    <tr>\n      <th>19</th>\n      <td>20</td>\n      <td>20171506210324</td>\n      <td>宋俊洋</td>\n      <td>70</td>\n      <td>71</td>\n      <td>78</td>\n      <td>74</td>\n      <td>82</td>\n      <td>77</td>\n      <td>65</td>\n      <td>...</td>\n      <td>78</td>\n      <td>77</td>\n      <td>74</td>\n      <td>85</td>\n      <td>92</td>\n      <td>78</td>\n      <td>86</td>\n      <td>75</td>\n      <td>70</td>\n      <td>1476</td>\n    </tr>\n    <tr>\n      <th>20</th>\n      <td>21</td>\n      <td>20171506210325</td>\n      <td>游慧新</td>\n      <td>78</td>\n      <td>68</td>\n      <td>80</td>\n      <td>83</td>\n      <td>79</td>\n      <td>80</td>\n      <td>77</td>\n      <td>...</td>\n      <td>79</td>\n      <td>79</td>\n      <td>59</td>\n      <td>86</td>\n      <td>79</td>\n      <td>79</td>\n      <td>80</td>\n      <td>81</td>\n      <td>70</td>\n      <td>1478</td>\n    </tr>\n    <tr>\n      <th>21</th>\n      <td>22</td>\n      <td>20171506210326</td>\n      <td>梁怡涵</td>\n      <td>80</td>\n      <td>64</td>\n      <td>77</td>\n      <td>87</td>\n      <td>66</td>\n      <td>95</td>\n      <td>69</td>\n      <td>...</td>\n      <td>81</td>\n      <td>96</td>\n      <td>65</td>\n      <td>87</td>\n      <td>81</td>\n      <td>80</td>\n      <td>92</td>\n      <td>67</td>\n      <td>70</td>\n      <td>1504</td>\n    </tr>\n    <tr>\n      <th>22</th>\n      <td>23</td>\n      <td>20171506210327</td>\n      <td>李景帅</td>\n      <td>74</td>\n      <td>67</td>\n      <td>82</td>\n      <td>77</td>\n      <td>77</td>\n      <td>75</td>\n      <td>71</td>\n      <td>...</td>\n      <td>80</td>\n      <td>76</td>\n      <td>68</td>\n      <td>83</td>\n      <td>79</td>\n      <td>80</td>\n      <td>87</td>\n      <td>70</td>\n      <td>71</td>\n      <td>1456</td>\n    </tr>\n    <tr>\n      <th>23</th>\n      <td>24</td>\n      <td>20171506210328</td>\n      <td>韩盼盼</td>\n      <td>74</td>\n      <td>78</td>\n      <td>83</td>\n      <td>82</td>\n      <td>77</td>\n      <td>93</td>\n      <td>77</td>\n      <td>...</td>\n      <td>89</td>\n      <td>91</td>\n      <td>79</td>\n      <td>89</td>\n      <td>96</td>\n      <td>75</td>\n      <td>91</td>\n      <td>93</td>\n      <td>81</td>\n      <td>1602</td>\n    </tr>\n    <tr>\n      <th>24</th>\n      <td>25</td>\n      <td>20171506210329</td>\n      <td>王会猛</td>\n      <td>92</td>\n      <td>80</td>\n      <td>90</td>\n      <td>96</td>\n      <td>85</td>\n      <td>76</td>\n      <td>72</td>\n      <td>...</td>\n      <td>83</td>\n      <td>76</td>\n      <td>69</td>\n      <td>87</td>\n      <td>92</td>\n      <td>79</td>\n      <td>89</td>\n      <td>87</td>\n      <td>78</td>\n      <td>1580</td>\n    </tr>\n    <tr>\n      <th>25</th>\n      <td>26</td>\n      <td>20171506210330</td>\n      <td>吴作栋</td>\n      <td>78</td>\n      <td>81</td>\n      <td>87</td>\n      <td>78</td>\n      <td>69</td>\n      <td>76</td>\n      <td>77</td>\n      <td>...</td>\n      <td>84</td>\n      <td>75</td>\n      <td>69</td>\n      <td>86</td>\n      <td>95</td>\n      <td>74</td>\n      <td>77</td>\n      <td>91</td>\n      <td>76</td>\n      <td>1513</td>\n    </tr>\n    <tr>\n      <th>26</th>\n      <td>27</td>\n      <td>20171506210331</td>\n      <td>王金来</td>\n      <td>82</td>\n      <td>87</td>\n      <td>83</td>\n      <td>81</td>\n      <td>71</td>\n      <td>76</td>\n      <td>78</td>\n      <td>...</td>\n      <td>100</td>\n      <td>76</td>\n      <td>59</td>\n      <td>86</td>\n      <td>84</td>\n      <td>78</td>\n      <td>90</td>\n      <td>75</td>\n      <td>79</td>\n      <td>1533</td>\n    </tr>\n    <tr>\n      <th>27</th>\n      <td>28</td>\n      <td>20171506210332</td>\n      <td>刘畅</td>\n      <td>84</td>\n      <td>86</td>\n      <td>82</td>\n      <td>81</td>\n      <td>84</td>\n      <td>82</td>\n      <td>70</td>\n      <td>...</td>\n      <td>100</td>\n      <td>78</td>\n      <td>61</td>\n      <td>83</td>\n      <td>91</td>\n      <td>75</td>\n      <td>85</td>\n      <td>85</td>\n      <td>73</td>\n      <td>1554</td>\n    </tr>\n    <tr>\n      <th>28</th>\n      <td>29</td>\n      <td>20171506210333</td>\n      <td>余娟</td>\n      <td>92</td>\n      <td>87</td>\n      <td>87</td>\n      <td>84</td>\n      <td>86</td>\n      <td>81</td>\n      <td>75</td>\n      <td>...</td>\n      <td>88</td>\n      <td>78</td>\n      <td>63</td>\n      <td>86</td>\n      <td>91</td>\n      <td>77</td>\n      <td>88</td>\n      <td>91</td>\n      <td>76</td>\n      <td>1574</td>\n    </tr>\n    <tr>\n      <th>29</th>\n      <td>30</td>\n      <td>20171506210334</td>\n      <td>王海洋</td>\n      <td>75</td>\n      <td>88</td>\n      <td>82</td>\n      <td>87</td>\n      <td>77</td>\n      <td>87</td>\n      <td>75</td>\n      <td>...</td>\n      <td>87</td>\n      <td>79</td>\n      <td>72</td>\n      <td>86</td>\n      <td>88</td>\n      <td>78</td>\n      <td>77</td>\n      <td>88</td>\n      <td>77</td>\n      <td>1549</td>\n    </tr>\n    <tr>\n      <th>30</th>\n      <td>31</td>\n      <td>20171506210335</td>\n      <td>牛豪</td>\n      <td>86</td>\n      <td>84</td>\n      <td>83</td>\n      <td>81</td>\n      <td>77</td>\n      <td>83</td>\n      <td>77</td>\n      <td>...</td>\n      <td>100</td>\n      <td>79</td>\n      <td>64</td>\n      <td>89</td>\n      <td>92</td>\n      <td>79</td>\n      <td>80</td>\n      <td>89</td>\n      <td>84</td>\n      <td>1571</td>\n    </tr>\n    <tr>\n      <th>31</th>\n      <td>32</td>\n      <td>20171506210336</td>\n      <td>张传鑫</td>\n      <td>80</td>\n      <td>81</td>\n      <td>83</td>\n      <td>88</td>\n      <td>85</td>\n      <td>83</td>\n      <td>75</td>\n      <td>...</td>\n      <td>86</td>\n      <td>87</td>\n      <td>75</td>\n      <td>85</td>\n      <td>87</td>\n      <td>80</td>\n      <td>88</td>\n      <td>89</td>\n      <td>78</td>\n      <td>1581</td>\n    </tr>\n    <tr>\n      <th>32</th>\n      <td>33</td>\n      <td>20171506210337</td>\n      <td>杨聪</td>\n      <td>71</td>\n      <td>87</td>\n      <td>83</td>\n      <td>85</td>\n      <td>76</td>\n      <td>82</td>\n      <td>66</td>\n      <td>...</td>\n      <td>98</td>\n      <td>79</td>\n      <td>68</td>\n      <td>87</td>\n      <td>94</td>\n      <td>79</td>\n      <td>81</td>\n      <td>83</td>\n      <td>75</td>\n      <td>1533</td>\n    </tr>\n    <tr>\n      <th>33</th>\n      <td>34</td>\n      <td>20171506210338</td>\n      <td>赵富萍</td>\n      <td>78</td>\n      <td>81</td>\n      <td>80</td>\n      <td>80</td>\n      <td>69</td>\n      <td>86</td>\n      <td>76</td>\n      <td>...</td>\n      <td>80</td>\n      <td>82</td>\n      <td>81</td>\n      <td>87</td>\n      <td>87</td>\n      <td>80</td>\n      <td>87</td>\n      <td>83</td>\n      <td>77</td>\n      <td>1537</td>\n    </tr>\n    <tr>\n      <th>34</th>\n      <td>35</td>\n      <td>20171506210339</td>\n      <td>朱怀昌</td>\n      <td>78</td>\n      <td>90</td>\n      <td>85</td>\n      <td>81</td>\n      <td>69</td>\n      <td>81</td>\n      <td>80</td>\n      <td>...</td>\n      <td>79</td>\n      <td>82</td>\n      <td>83</td>\n      <td>85</td>\n      <td>97</td>\n      <td>79</td>\n      <td>88</td>\n      <td>88</td>\n      <td>77</td>\n      <td>1572</td>\n    </tr>\n    <tr>\n      <th>35</th>\n      <td>36</td>\n      <td>20171506210340</td>\n      <td>付园园</td>\n      <td>73</td>\n      <td>70</td>\n      <td>83</td>\n      <td>85</td>\n      <td>77</td>\n      <td>93</td>\n      <td>72</td>\n      <td>...</td>\n      <td>80</td>\n      <td>92</td>\n      <td>70</td>\n      <td>83</td>\n      <td>94</td>\n      <td>79</td>\n      <td>76</td>\n      <td>83</td>\n      <td>69</td>\n      <td>1515</td>\n    </tr>\n    <tr>\n      <th>36</th>\n      <td>37</td>\n      <td>20171506210341</td>\n      <td>杨玉冰</td>\n      <td>94</td>\n      <td>91</td>\n      <td>87</td>\n      <td>93</td>\n      <td>85</td>\n      <td>92</td>\n      <td>66</td>\n      <td>...</td>\n      <td>98</td>\n      <td>90</td>\n      <td>75</td>\n      <td>87</td>\n      <td>92</td>\n      <td>78</td>\n      <td>78</td>\n      <td>86</td>\n      <td>74</td>\n      <td>1615</td>\n    </tr>\n    <tr>\n      <th>37</th>\n      <td>38</td>\n      <td>20171506210342</td>\n      <td>赵佳伟</td>\n      <td>72</td>\n      <td>68</td>\n      <td>82</td>\n      <td>79</td>\n      <td>76</td>\n      <td>78</td>\n      <td>72</td>\n      <td>...</td>\n      <td>76</td>\n      <td>78</td>\n      <td>73</td>\n      <td>86</td>\n      <td>76</td>\n      <td>79</td>\n      <td>81</td>\n      <td>71</td>\n      <td>73</td>\n      <td>1467</td>\n    </tr>\n    <tr>\n      <th>38</th>\n      <td>39</td>\n      <td>20171506210343</td>\n      <td>洪海通</td>\n      <td>74</td>\n      <td>78</td>\n      <td>82</td>\n      <td>84</td>\n      <td>69</td>\n      <td>78</td>\n      <td>74</td>\n      <td>...</td>\n      <td>86</td>\n      <td>81</td>\n      <td>79</td>\n      <td>86</td>\n      <td>89</td>\n      <td>79</td>\n      <td>78</td>\n      <td>76</td>\n      <td>71</td>\n      <td>1517</td>\n    </tr>\n    <tr>\n      <th>39</th>\n      <td>40</td>\n      <td>20171506210344</td>\n      <td>王义菊</td>\n      <td>86</td>\n      <td>86</td>\n      <td>87</td>\n      <td>89</td>\n      <td>84</td>\n      <td>94</td>\n      <td>76</td>\n      <td>...</td>\n      <td>96</td>\n      <td>88</td>\n      <td>78</td>\n      <td>85</td>\n      <td>94</td>\n      <td>78</td>\n      <td>76</td>\n      <td>85</td>\n      <td>76</td>\n      <td>1611</td>\n    </tr>\n    <tr>\n      <th>40</th>\n      <td>41</td>\n      <td>20171506210345</td>\n      <td>陈小龙</td>\n      <td>72</td>\n      <td>71</td>\n      <td>83</td>\n      <td>93</td>\n      <td>83</td>\n      <td>76</td>\n      <td>73</td>\n      <td>...</td>\n      <td>89</td>\n      <td>77</td>\n      <td>76</td>\n      <td>85</td>\n      <td>78</td>\n      <td>77</td>\n      <td>77</td>\n      <td>65</td>\n      <td>74</td>\n      <td>1501</td>\n    </tr>\n    <tr>\n      <th>41</th>\n      <td>42</td>\n      <td>20171506210346</td>\n      <td>黄延鑫</td>\n      <td>92</td>\n      <td>87</td>\n      <td>90</td>\n      <td>96</td>\n      <td>84</td>\n      <td>80</td>\n      <td>72</td>\n      <td>...</td>\n      <td>88</td>\n      <td>87</td>\n      <td>79</td>\n      <td>88</td>\n      <td>97</td>\n      <td>77</td>\n      <td>89</td>\n      <td>87</td>\n      <td>75</td>\n      <td>1619</td>\n    </tr>\n    <tr>\n      <th>42</th>\n      <td>43</td>\n      <td>20171506210347</td>\n      <td>芦梦晗</td>\n      <td>85</td>\n      <td>96</td>\n      <td>83</td>\n      <td>82</td>\n      <td>96</td>\n      <td>86</td>\n      <td>77</td>\n      <td>...</td>\n      <td>98</td>\n      <td>88</td>\n      <td>79</td>\n      <td>86</td>\n      <td>94</td>\n      <td>75</td>\n      <td>93</td>\n      <td>88</td>\n      <td>86</td>\n      <td>1647</td>\n    </tr>\n    <tr>\n      <th>43</th>\n      <td>44</td>\n      <td>20171506210348</td>\n      <td>杨菊会</td>\n      <td>90</td>\n      <td>99</td>\n      <td>87</td>\n      <td>85</td>\n      <td>78</td>\n      <td>94</td>\n      <td>82</td>\n      <td>...</td>\n      <td>88</td>\n      <td>86</td>\n      <td>73</td>\n      <td>86</td>\n      <td>96</td>\n      <td>78</td>\n      <td>96</td>\n      <td>94</td>\n      <td>90</td>\n      <td>1663</td>\n    </tr>\n    <tr>\n      <th>44</th>\n      <td>45</td>\n      <td>20171506210349</td>\n      <td>丁红帅</td>\n      <td>77</td>\n      <td>66</td>\n      <td>87</td>\n      <td>78</td>\n      <td>76</td>\n      <td>91</td>\n      <td>79</td>\n      <td>...</td>\n      <td>75</td>\n      <td>91</td>\n      <td>66</td>\n      <td>87</td>\n      <td>94</td>\n      <td>78</td>\n      <td>91</td>\n      <td>85</td>\n      <td>74</td>\n      <td>1548</td>\n    </tr>\n  </tbody>\n</table>\n<p>45 rows × 23 columns</p>\n</div>"
     },
     "metadata": {},
     "output_type": "execute_result",
     "execution_count": 3
    }
   ],
   "source": [
    "f = pd.read_excel(\"Junior_three.xlsx\")\n",
    "f"
   ],
   "metadata": {
    "collapsed": false,
    "pycharm": {
     "name": "#%%\n",
     "is_executing": false
    }
   }
  },
  {
   "cell_type": "code",
   "execution_count": 4,
   "outputs": [],
   "source": [
    "# f1 = F[['学号','姓名']]\n",
    "\n",
    "# f1 = F[['学号','姓名','大三上信息安全基础']]\n",
    "# f2 = F[['学号','姓名','大三上离散数学']]\n",
    "df = pd.DataFrame(columns=['学号','姓名','科目','分数'])"
   ],
   "metadata": {
    "collapsed": false,
    "pycharm": {
     "name": "#%%\n",
     "is_executing": false
    }
   }
  },
  {
   "cell_type": "code",
   "execution_count": 5,
   "outputs": [
    {
     "data": {
      "text/plain": "0    王昕\nName: 姓名, dtype: object"
     },
     "metadata": {},
     "output_type": "execute_result",
     "execution_count": 5
    }
   ],
   "source": [
    "f.iloc[0:1,2]"
   ],
   "metadata": {
    "collapsed": false,
    "pycharm": {
     "name": "#%%\n",
     "is_executing": false
    }
   }
  },
  {
   "cell_type": "code",
   "execution_count": 83,
   "outputs": [
    {
     "data": {
      "text/plain": "'大三上信息安全基础'"
     },
     "metadata": {},
     "output_type": "execute_result",
     "execution_count": 83
    }
   ],
   "source": [
    "f.columns.values[3]"
   ],
   "metadata": {
    "collapsed": false,
    "pycharm": {
     "name": "#%%\n",
     "is_executing": false
    }
   }
  },
  {
   "cell_type": "code",
   "execution_count": 6,
   "outputs": [],
   "source": [
    "for num_students in range(1,46):\n",
    "    for i in range(3,22):\n",
    "        s = pd.Series({'学号':f.iloc[num_students-1:num_students,1].values[0],'姓名':f.iloc[num_students-1:num_students,2].values[0],'科目':f.columns.values[i],'分数':f.iloc[num_students-1:num_students,i].values[0]})\n",
    "        df = df.append(s,ignore_index=True)\n",
    "\n"
   ],
   "metadata": {
    "collapsed": false,
    "pycharm": {
     "name": "#%%\n",
     "is_executing": false
    }
   }
  },
  {
   "cell_type": "code",
   "execution_count": 7,
   "outputs": [
    {
     "data": {
      "text/plain": "                 学号   姓名               科目  分数\n0    20171506210301   王昕        大三上信息安全基础  75\n1    20171506210301   王昕          大三上离散数学  67\n2    20171506210301   王昕    大三上信息系统安全综合实践  85\n3    20171506210301   王昕    大三上面向对象设计java  73\n4    20171506210301   王昕     大三上linux系统管理  83\n5    20171506210301   王昕  大三上python机器学习基础  86\n6    20171506210301   王昕         大三上互联网金融  60\n7    20171506210301   王昕           大三上金融学  65\n8    20171506210301   王昕         大三上大学物理1  75\n9    20171506210301   王昕       大三上大学物理实验1  86\n10   20171506210301   王昕   大三上云计算系统平台综合实践  77\n11   20171506210301   王昕       大三上云计算技术基础  86\n12   20171506210301   王昕          大三下软件工程  62\n13   20171506210301   王昕     大三下数据仓库与数据挖掘  83\n14   20171506210301   王昕      大三下java云端编程  76\n15   20171506210301   王昕  大三下python自然语言处理  79\n16   20171506210301   王昕        大三下网络安全技术  73\n17   20171506210301   王昕         大三下大学物理2  68\n18   20171506210301   王昕          大三下编译原理  65\n19   20171506210302  田明阳        大三上信息安全基础  73\n20   20171506210302  田明阳          大三上离散数学  50\n21   20171506210302  田明阳    大三上信息系统安全综合实践  83\n22   20171506210302  田明阳    大三上面向对象设计java  83\n23   20171506210302  田明阳     大三上linux系统管理  78\n24   20171506210302  田明阳  大三上python机器学习基础  83\n25   20171506210302  田明阳         大三上互联网金融  69\n26   20171506210302  田明阳           大三上金融学  70\n27   20171506210302  田明阳         大三上大学物理1  85\n28   20171506210302  田明阳       大三上大学物理实验1  92\n29   20171506210302  田明阳   大三上云计算系统平台综合实践  78\n..              ...  ...              ...  ..\n825  20171506210348  杨菊会         大三上大学物理1  85\n826  20171506210348  杨菊会       大三上大学物理实验1  93\n827  20171506210348  杨菊会   大三上云计算系统平台综合实践  88\n828  20171506210348  杨菊会       大三上云计算技术基础  86\n829  20171506210348  杨菊会          大三下软件工程  73\n830  20171506210348  杨菊会     大三下数据仓库与数据挖掘  86\n831  20171506210348  杨菊会      大三下java云端编程  96\n832  20171506210348  杨菊会  大三下python自然语言处理  78\n833  20171506210348  杨菊会        大三下网络安全技术  96\n834  20171506210348  杨菊会         大三下大学物理2  94\n835  20171506210348  杨菊会          大三下编译原理  90\n836  20171506210349  丁红帅        大三上信息安全基础  77\n837  20171506210349  丁红帅          大三上离散数学  66\n838  20171506210349  丁红帅    大三上信息系统安全综合实践  87\n839  20171506210349  丁红帅    大三上面向对象设计java  78\n840  20171506210349  丁红帅     大三上linux系统管理  76\n841  20171506210349  丁红帅  大三上python机器学习基础  91\n842  20171506210349  丁红帅         大三上互联网金融  79\n843  20171506210349  丁红帅           大三上金融学  81\n844  20171506210349  丁红帅         大三上大学物理1  81\n845  20171506210349  丁红帅       大三上大学物理实验1  91\n846  20171506210349  丁红帅   大三上云计算系统平台综合实践  75\n847  20171506210349  丁红帅       大三上云计算技术基础  91\n848  20171506210349  丁红帅          大三下软件工程  66\n849  20171506210349  丁红帅     大三下数据仓库与数据挖掘  87\n850  20171506210349  丁红帅      大三下java云端编程  94\n851  20171506210349  丁红帅  大三下python自然语言处理  78\n852  20171506210349  丁红帅        大三下网络安全技术  91\n853  20171506210349  丁红帅         大三下大学物理2  85\n854  20171506210349  丁红帅          大三下编译原理  74\n\n[855 rows x 4 columns]",
      "text/html": "<div>\n<style scoped>\n    .dataframe tbody tr th:only-of-type {\n        vertical-align: middle;\n    }\n\n    .dataframe tbody tr th {\n        vertical-align: top;\n    }\n\n    .dataframe thead th {\n        text-align: right;\n    }\n</style>\n<table border=\"1\" class=\"dataframe\">\n  <thead>\n    <tr style=\"text-align: right;\">\n      <th></th>\n      <th>学号</th>\n      <th>姓名</th>\n      <th>科目</th>\n      <th>分数</th>\n    </tr>\n  </thead>\n  <tbody>\n    <tr>\n      <th>0</th>\n      <td>20171506210301</td>\n      <td>王昕</td>\n      <td>大三上信息安全基础</td>\n      <td>75</td>\n    </tr>\n    <tr>\n      <th>1</th>\n      <td>20171506210301</td>\n      <td>王昕</td>\n      <td>大三上离散数学</td>\n      <td>67</td>\n    </tr>\n    <tr>\n      <th>2</th>\n      <td>20171506210301</td>\n      <td>王昕</td>\n      <td>大三上信息系统安全综合实践</td>\n      <td>85</td>\n    </tr>\n    <tr>\n      <th>3</th>\n      <td>20171506210301</td>\n      <td>王昕</td>\n      <td>大三上面向对象设计java</td>\n      <td>73</td>\n    </tr>\n    <tr>\n      <th>4</th>\n      <td>20171506210301</td>\n      <td>王昕</td>\n      <td>大三上linux系统管理</td>\n      <td>83</td>\n    </tr>\n    <tr>\n      <th>5</th>\n      <td>20171506210301</td>\n      <td>王昕</td>\n      <td>大三上python机器学习基础</td>\n      <td>86</td>\n    </tr>\n    <tr>\n      <th>6</th>\n      <td>20171506210301</td>\n      <td>王昕</td>\n      <td>大三上互联网金融</td>\n      <td>60</td>\n    </tr>\n    <tr>\n      <th>7</th>\n      <td>20171506210301</td>\n      <td>王昕</td>\n      <td>大三上金融学</td>\n      <td>65</td>\n    </tr>\n    <tr>\n      <th>8</th>\n      <td>20171506210301</td>\n      <td>王昕</td>\n      <td>大三上大学物理1</td>\n      <td>75</td>\n    </tr>\n    <tr>\n      <th>9</th>\n      <td>20171506210301</td>\n      <td>王昕</td>\n      <td>大三上大学物理实验1</td>\n      <td>86</td>\n    </tr>\n    <tr>\n      <th>10</th>\n      <td>20171506210301</td>\n      <td>王昕</td>\n      <td>大三上云计算系统平台综合实践</td>\n      <td>77</td>\n    </tr>\n    <tr>\n      <th>11</th>\n      <td>20171506210301</td>\n      <td>王昕</td>\n      <td>大三上云计算技术基础</td>\n      <td>86</td>\n    </tr>\n    <tr>\n      <th>12</th>\n      <td>20171506210301</td>\n      <td>王昕</td>\n      <td>大三下软件工程</td>\n      <td>62</td>\n    </tr>\n    <tr>\n      <th>13</th>\n      <td>20171506210301</td>\n      <td>王昕</td>\n      <td>大三下数据仓库与数据挖掘</td>\n      <td>83</td>\n    </tr>\n    <tr>\n      <th>14</th>\n      <td>20171506210301</td>\n      <td>王昕</td>\n      <td>大三下java云端编程</td>\n      <td>76</td>\n    </tr>\n    <tr>\n      <th>15</th>\n      <td>20171506210301</td>\n      <td>王昕</td>\n      <td>大三下python自然语言处理</td>\n      <td>79</td>\n    </tr>\n    <tr>\n      <th>16</th>\n      <td>20171506210301</td>\n      <td>王昕</td>\n      <td>大三下网络安全技术</td>\n      <td>73</td>\n    </tr>\n    <tr>\n      <th>17</th>\n      <td>20171506210301</td>\n      <td>王昕</td>\n      <td>大三下大学物理2</td>\n      <td>68</td>\n    </tr>\n    <tr>\n      <th>18</th>\n      <td>20171506210301</td>\n      <td>王昕</td>\n      <td>大三下编译原理</td>\n      <td>65</td>\n    </tr>\n    <tr>\n      <th>19</th>\n      <td>20171506210302</td>\n      <td>田明阳</td>\n      <td>大三上信息安全基础</td>\n      <td>73</td>\n    </tr>\n    <tr>\n      <th>20</th>\n      <td>20171506210302</td>\n      <td>田明阳</td>\n      <td>大三上离散数学</td>\n      <td>50</td>\n    </tr>\n    <tr>\n      <th>21</th>\n      <td>20171506210302</td>\n      <td>田明阳</td>\n      <td>大三上信息系统安全综合实践</td>\n      <td>83</td>\n    </tr>\n    <tr>\n      <th>22</th>\n      <td>20171506210302</td>\n      <td>田明阳</td>\n      <td>大三上面向对象设计java</td>\n      <td>83</td>\n    </tr>\n    <tr>\n      <th>23</th>\n      <td>20171506210302</td>\n      <td>田明阳</td>\n      <td>大三上linux系统管理</td>\n      <td>78</td>\n    </tr>\n    <tr>\n      <th>24</th>\n      <td>20171506210302</td>\n      <td>田明阳</td>\n      <td>大三上python机器学习基础</td>\n      <td>83</td>\n    </tr>\n    <tr>\n      <th>25</th>\n      <td>20171506210302</td>\n      <td>田明阳</td>\n      <td>大三上互联网金融</td>\n      <td>69</td>\n    </tr>\n    <tr>\n      <th>26</th>\n      <td>20171506210302</td>\n      <td>田明阳</td>\n      <td>大三上金融学</td>\n      <td>70</td>\n    </tr>\n    <tr>\n      <th>27</th>\n      <td>20171506210302</td>\n      <td>田明阳</td>\n      <td>大三上大学物理1</td>\n      <td>85</td>\n    </tr>\n    <tr>\n      <th>28</th>\n      <td>20171506210302</td>\n      <td>田明阳</td>\n      <td>大三上大学物理实验1</td>\n      <td>92</td>\n    </tr>\n    <tr>\n      <th>29</th>\n      <td>20171506210302</td>\n      <td>田明阳</td>\n      <td>大三上云计算系统平台综合实践</td>\n      <td>78</td>\n    </tr>\n    <tr>\n      <th>...</th>\n      <td>...</td>\n      <td>...</td>\n      <td>...</td>\n      <td>...</td>\n    </tr>\n    <tr>\n      <th>825</th>\n      <td>20171506210348</td>\n      <td>杨菊会</td>\n      <td>大三上大学物理1</td>\n      <td>85</td>\n    </tr>\n    <tr>\n      <th>826</th>\n      <td>20171506210348</td>\n      <td>杨菊会</td>\n      <td>大三上大学物理实验1</td>\n      <td>93</td>\n    </tr>\n    <tr>\n      <th>827</th>\n      <td>20171506210348</td>\n      <td>杨菊会</td>\n      <td>大三上云计算系统平台综合实践</td>\n      <td>88</td>\n    </tr>\n    <tr>\n      <th>828</th>\n      <td>20171506210348</td>\n      <td>杨菊会</td>\n      <td>大三上云计算技术基础</td>\n      <td>86</td>\n    </tr>\n    <tr>\n      <th>829</th>\n      <td>20171506210348</td>\n      <td>杨菊会</td>\n      <td>大三下软件工程</td>\n      <td>73</td>\n    </tr>\n    <tr>\n      <th>830</th>\n      <td>20171506210348</td>\n      <td>杨菊会</td>\n      <td>大三下数据仓库与数据挖掘</td>\n      <td>86</td>\n    </tr>\n    <tr>\n      <th>831</th>\n      <td>20171506210348</td>\n      <td>杨菊会</td>\n      <td>大三下java云端编程</td>\n      <td>96</td>\n    </tr>\n    <tr>\n      <th>832</th>\n      <td>20171506210348</td>\n      <td>杨菊会</td>\n      <td>大三下python自然语言处理</td>\n      <td>78</td>\n    </tr>\n    <tr>\n      <th>833</th>\n      <td>20171506210348</td>\n      <td>杨菊会</td>\n      <td>大三下网络安全技术</td>\n      <td>96</td>\n    </tr>\n    <tr>\n      <th>834</th>\n      <td>20171506210348</td>\n      <td>杨菊会</td>\n      <td>大三下大学物理2</td>\n      <td>94</td>\n    </tr>\n    <tr>\n      <th>835</th>\n      <td>20171506210348</td>\n      <td>杨菊会</td>\n      <td>大三下编译原理</td>\n      <td>90</td>\n    </tr>\n    <tr>\n      <th>836</th>\n      <td>20171506210349</td>\n      <td>丁红帅</td>\n      <td>大三上信息安全基础</td>\n      <td>77</td>\n    </tr>\n    <tr>\n      <th>837</th>\n      <td>20171506210349</td>\n      <td>丁红帅</td>\n      <td>大三上离散数学</td>\n      <td>66</td>\n    </tr>\n    <tr>\n      <th>838</th>\n      <td>20171506210349</td>\n      <td>丁红帅</td>\n      <td>大三上信息系统安全综合实践</td>\n      <td>87</td>\n    </tr>\n    <tr>\n      <th>839</th>\n      <td>20171506210349</td>\n      <td>丁红帅</td>\n      <td>大三上面向对象设计java</td>\n      <td>78</td>\n    </tr>\n    <tr>\n      <th>840</th>\n      <td>20171506210349</td>\n      <td>丁红帅</td>\n      <td>大三上linux系统管理</td>\n      <td>76</td>\n    </tr>\n    <tr>\n      <th>841</th>\n      <td>20171506210349</td>\n      <td>丁红帅</td>\n      <td>大三上python机器学习基础</td>\n      <td>91</td>\n    </tr>\n    <tr>\n      <th>842</th>\n      <td>20171506210349</td>\n      <td>丁红帅</td>\n      <td>大三上互联网金融</td>\n      <td>79</td>\n    </tr>\n    <tr>\n      <th>843</th>\n      <td>20171506210349</td>\n      <td>丁红帅</td>\n      <td>大三上金融学</td>\n      <td>81</td>\n    </tr>\n    <tr>\n      <th>844</th>\n      <td>20171506210349</td>\n      <td>丁红帅</td>\n      <td>大三上大学物理1</td>\n      <td>81</td>\n    </tr>\n    <tr>\n      <th>845</th>\n      <td>20171506210349</td>\n      <td>丁红帅</td>\n      <td>大三上大学物理实验1</td>\n      <td>91</td>\n    </tr>\n    <tr>\n      <th>846</th>\n      <td>20171506210349</td>\n      <td>丁红帅</td>\n      <td>大三上云计算系统平台综合实践</td>\n      <td>75</td>\n    </tr>\n    <tr>\n      <th>847</th>\n      <td>20171506210349</td>\n      <td>丁红帅</td>\n      <td>大三上云计算技术基础</td>\n      <td>91</td>\n    </tr>\n    <tr>\n      <th>848</th>\n      <td>20171506210349</td>\n      <td>丁红帅</td>\n      <td>大三下软件工程</td>\n      <td>66</td>\n    </tr>\n    <tr>\n      <th>849</th>\n      <td>20171506210349</td>\n      <td>丁红帅</td>\n      <td>大三下数据仓库与数据挖掘</td>\n      <td>87</td>\n    </tr>\n    <tr>\n      <th>850</th>\n      <td>20171506210349</td>\n      <td>丁红帅</td>\n      <td>大三下java云端编程</td>\n      <td>94</td>\n    </tr>\n    <tr>\n      <th>851</th>\n      <td>20171506210349</td>\n      <td>丁红帅</td>\n      <td>大三下python自然语言处理</td>\n      <td>78</td>\n    </tr>\n    <tr>\n      <th>852</th>\n      <td>20171506210349</td>\n      <td>丁红帅</td>\n      <td>大三下网络安全技术</td>\n      <td>91</td>\n    </tr>\n    <tr>\n      <th>853</th>\n      <td>20171506210349</td>\n      <td>丁红帅</td>\n      <td>大三下大学物理2</td>\n      <td>85</td>\n    </tr>\n    <tr>\n      <th>854</th>\n      <td>20171506210349</td>\n      <td>丁红帅</td>\n      <td>大三下编译原理</td>\n      <td>74</td>\n    </tr>\n  </tbody>\n</table>\n<p>855 rows × 4 columns</p>\n</div>"
     },
     "metadata": {},
     "output_type": "execute_result",
     "execution_count": 7
    }
   ],
   "source": [
    "df"
   ],
   "metadata": {
    "collapsed": false,
    "pycharm": {
     "name": "#%%\n",
     "is_executing": false
    }
   }
  },
  {
   "cell_type": "code",
   "execution_count": 8,
   "outputs": [],
   "source": [
    "df.to_csv('dasan_score.csv')"
   ],
   "metadata": {
    "collapsed": false,
    "pycharm": {
     "name": "#%%\n",
     "is_executing": false
    }
   }
  },
  {
   "cell_type": "code",
   "execution_count": 85,
   "outputs": [],
   "source": [
    "# 在这种交互式页面中，MySQL语句要一次性执行完，不然会报错\n",
    "import pymysql\n",
    "db = pymysql.connect(host='localhost',user='root',password='root',db='test',port=3306)\n",
    "cur = db.cursor()\n",
    "cur.execute(\"drop table if exists Junior_3\")\n",
    "\n",
    "\n",
    "cur.execute(\n",
    "    \"create table Junior_3 (id smallint unsigned auto_increment primary key,sno varchar(36) not null,username varchar(30),class varchar(60),score int(30))\"\n",
    ")\n",
    "\n",
    "for column_i in range(0,855):\n",
    "    a = df[column_i:column_i+1].to_dict()\n",
    "    # print(a)\n",
    "\n",
    "    a['学号']=a['学号'][column_i]\n",
    "    a['姓名'] = a['姓名'][column_i]\n",
    "    a['科目'] = a['科目'][column_i]\n",
    "    a['分数'] = a['分数'][column_i]\n",
    "    # print(a)\n",
    "\n",
    "    di = \"\"\n",
    "    for i in a.keys():\n",
    "        di = (di+'\"%s\"' + \",\") % (a[i])\n",
    "    # print(di)\n",
    "    sql1 = \"insert into Junior_3 (sno,username,class,score) values (%s)\" % (di[:-1])\n",
    "    cur.execute(sql1)\n",
    "    cur.connection.commit()\n",
    "db.close()"
   ],
   "metadata": {
    "collapsed": false,
    "pycharm": {
     "name": "#%%\n",
     "is_executing": false
    }
   }
  },
  {
   "cell_type": "code",
   "execution_count": 49,
   "outputs": [
    {
     "data": {
      "text/plain": "'\"20171506210301\",\"王昕\",\"大三上信息安全基础\",\"75\",'"
     },
     "metadata": {},
     "output_type": "execute_result",
     "execution_count": 49
    }
   ],
   "source": [
    "# di"
   ],
   "metadata": {
    "collapsed": false,
    "pycharm": {
     "name": "#%%\n",
     "is_executing": false
    }
   }
  },
  {
   "cell_type": "code",
   "execution_count": null,
   "outputs": [],
   "source": [
    "\n"
   ],
   "metadata": {
    "collapsed": false,
    "pycharm": {
     "name": "#%%\n"
    }
   }
  }
 ],
 "metadata": {
  "kernelspec": {
   "display_name": "Python 3",
   "language": "python",
   "name": "python3"
  },
  "language_info": {
   "codemirror_mode": {
    "name": "ipython",
    "version": 2
   },
   "file_extension": ".py",
   "mimetype": "text/x-python",
   "name": "python",
   "nbconvert_exporter": "python",
   "pygments_lexer": "ipython2",
   "version": "2.7.6"
  },
  "pycharm": {
   "stem_cell": {
    "cell_type": "raw",
    "source": [],
    "metadata": {
     "collapsed": false
    }
   }
  }
 },
 "nbformat": 4,
 "nbformat_minor": 0
}