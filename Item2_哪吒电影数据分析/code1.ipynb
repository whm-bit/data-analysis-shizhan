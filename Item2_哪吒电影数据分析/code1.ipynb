{
 "cells": [
  {
   "cell_type": "markdown",
   "metadata": {
    "collapsed": true,
    "pycharm": {
     "name": "#%% md\n"
    }
   },
   "source": [
    "评论中的词云可视化展示"
   ]
  },
  {
   "cell_type": "code",
   "execution_count": 4,
   "outputs": [],
   "source": [
    "import numpy as np\n",
    "import pandas as pd\n",
    "import matplotlib.pyplot as plt\n",
    "import jieba\n",
    "from pyecharts import WordCloud\n",
    "import matplotlib as mpl\n",
    "mpl.rcParams[\"font.family\"] = \"SimHei\"\n",
    "mpl.rcParams[\"axes.unicode_minus\"]=False"
   ],
   "metadata": {
    "collapsed": false,
    "pycharm": {
     "name": "#%%\n",
     "is_executing": false
    }
   }
  },
  {
   "cell_type": "code",
   "execution_count": 5,
   "outputs": [],
   "source": [
    "df = pd.read_csv(\"nezha.csv\",encoding=\"utf-8\",names=[\"date\",\"rate\",\"title\",\"uses\",\"name\",\"comment\"],usecols=[0,1,2,3,4,5])# 日期，评分，类型，赞同人数，名字，评论\n",
    "\n",
    "t = df[\"comment\"] # 找到评论这一列\n",
    "t1 = t.copy()"
   ],
   "metadata": {
    "collapsed": false,
    "pycharm": {
     "name": "#%%\n",
     "is_executing": false
    }
   }
  },
  {
   "cell_type": "code",
   "execution_count": 11,
   "outputs": [
    {
     "data": {
      "text/plain": "                               name  word\n0                                00     1\n1                                01     2\n2                               018     1\n3                                05     2\n4                                10     3\n5                              1000     1\n6     10010010110111001010001110010     1\n7                               110     1\n8                                12     3\n9                                15     3\n10                               16     1\n11                               18     1\n12                               19     3\n13                             1970     1\n14                             1979     1\n15                            19915     1\n16                             1998     1\n17                              1CG     1\n18                              1V1     1\n19                               1W     1\n20                               20     7\n21                             2000     1\n22                             2001     1\n23                             2008     1\n24                             2012     1\n25                             2015     1\n26                             2018     1\n27                             2019     9\n28                         20190713     1\n29                         20190720     1\n...                             ...   ...\n6964                             鸡血     2\n6965                             鸡贼     1\n6966                             鸣人     2\n6967                             麻花     1\n6968                            黄天化     2\n6969                            黄百鸣     1\n6970                             黄金     2\n6971                             黑化     1\n6972                             黑暗     2\n6973                             黑猫     1\n6974                             黑白     1\n6975                            黑眼圈     6\n6976                             黑马     6\n6977                             默片     1\n6978                             默认     2\n6979                             鼓励    21\n6980                             鼓掌     2\n6981                            鼓起来     1\n6982                             鼻子     1\n6983                             鼻涕     3\n6984                           齐天大圣     3\n6985                             龙偶     1\n6986                            龙太子     3\n6987                             龙子     1\n6988                             龙宫     5\n6989                             龙族    24\n6990                             龙王    11\n6991                             龙皮     1\n6992                             龙锤     1\n6993                             龙龙     1\n\n[6994 rows x 2 columns]",
      "text/html": "<div>\n<style scoped>\n    .dataframe tbody tr th:only-of-type {\n        vertical-align: middle;\n    }\n\n    .dataframe tbody tr th {\n        vertical-align: top;\n    }\n\n    .dataframe thead th {\n        text-align: right;\n    }\n</style>\n<table border=\"1\" class=\"dataframe\">\n  <thead>\n    <tr style=\"text-align: right;\">\n      <th></th>\n      <th>name</th>\n      <th>word</th>\n    </tr>\n  </thead>\n  <tbody>\n    <tr>\n      <th>0</th>\n      <td>00</td>\n      <td>1</td>\n    </tr>\n    <tr>\n      <th>1</th>\n      <td>01</td>\n      <td>2</td>\n    </tr>\n    <tr>\n      <th>2</th>\n      <td>018</td>\n      <td>1</td>\n    </tr>\n    <tr>\n      <th>3</th>\n      <td>05</td>\n      <td>2</td>\n    </tr>\n    <tr>\n      <th>4</th>\n      <td>10</td>\n      <td>3</td>\n    </tr>\n    <tr>\n      <th>5</th>\n      <td>1000</td>\n      <td>1</td>\n    </tr>\n    <tr>\n      <th>6</th>\n      <td>10010010110111001010001110010</td>\n      <td>1</td>\n    </tr>\n    <tr>\n      <th>7</th>\n      <td>110</td>\n      <td>1</td>\n    </tr>\n    <tr>\n      <th>8</th>\n      <td>12</td>\n      <td>3</td>\n    </tr>\n    <tr>\n      <th>9</th>\n      <td>15</td>\n      <td>3</td>\n    </tr>\n    <tr>\n      <th>10</th>\n      <td>16</td>\n      <td>1</td>\n    </tr>\n    <tr>\n      <th>11</th>\n      <td>18</td>\n      <td>1</td>\n    </tr>\n    <tr>\n      <th>12</th>\n      <td>19</td>\n      <td>3</td>\n    </tr>\n    <tr>\n      <th>13</th>\n      <td>1970</td>\n      <td>1</td>\n    </tr>\n    <tr>\n      <th>14</th>\n      <td>1979</td>\n      <td>1</td>\n    </tr>\n    <tr>\n      <th>15</th>\n      <td>19915</td>\n      <td>1</td>\n    </tr>\n    <tr>\n      <th>16</th>\n      <td>1998</td>\n      <td>1</td>\n    </tr>\n    <tr>\n      <th>17</th>\n      <td>1CG</td>\n      <td>1</td>\n    </tr>\n    <tr>\n      <th>18</th>\n      <td>1V1</td>\n      <td>1</td>\n    </tr>\n    <tr>\n      <th>19</th>\n      <td>1W</td>\n      <td>1</td>\n    </tr>\n    <tr>\n      <th>20</th>\n      <td>20</td>\n      <td>7</td>\n    </tr>\n    <tr>\n      <th>21</th>\n      <td>2000</td>\n      <td>1</td>\n    </tr>\n    <tr>\n      <th>22</th>\n      <td>2001</td>\n      <td>1</td>\n    </tr>\n    <tr>\n      <th>23</th>\n      <td>2008</td>\n      <td>1</td>\n    </tr>\n    <tr>\n      <th>24</th>\n      <td>2012</td>\n      <td>1</td>\n    </tr>\n    <tr>\n      <th>25</th>\n      <td>2015</td>\n      <td>1</td>\n    </tr>\n    <tr>\n      <th>26</th>\n      <td>2018</td>\n      <td>1</td>\n    </tr>\n    <tr>\n      <th>27</th>\n      <td>2019</td>\n      <td>9</td>\n    </tr>\n    <tr>\n      <th>28</th>\n      <td>20190713</td>\n      <td>1</td>\n    </tr>\n    <tr>\n      <th>29</th>\n      <td>20190720</td>\n      <td>1</td>\n    </tr>\n    <tr>\n      <th>...</th>\n      <td>...</td>\n      <td>...</td>\n    </tr>\n    <tr>\n      <th>6964</th>\n      <td>鸡血</td>\n      <td>2</td>\n    </tr>\n    <tr>\n      <th>6965</th>\n      <td>鸡贼</td>\n      <td>1</td>\n    </tr>\n    <tr>\n      <th>6966</th>\n      <td>鸣人</td>\n      <td>2</td>\n    </tr>\n    <tr>\n      <th>6967</th>\n      <td>麻花</td>\n      <td>1</td>\n    </tr>\n    <tr>\n      <th>6968</th>\n      <td>黄天化</td>\n      <td>2</td>\n    </tr>\n    <tr>\n      <th>6969</th>\n      <td>黄百鸣</td>\n      <td>1</td>\n    </tr>\n    <tr>\n      <th>6970</th>\n      <td>黄金</td>\n      <td>2</td>\n    </tr>\n    <tr>\n      <th>6971</th>\n      <td>黑化</td>\n      <td>1</td>\n    </tr>\n    <tr>\n      <th>6972</th>\n      <td>黑暗</td>\n      <td>2</td>\n    </tr>\n    <tr>\n      <th>6973</th>\n      <td>黑猫</td>\n      <td>1</td>\n    </tr>\n    <tr>\n      <th>6974</th>\n      <td>黑白</td>\n      <td>1</td>\n    </tr>\n    <tr>\n      <th>6975</th>\n      <td>黑眼圈</td>\n      <td>6</td>\n    </tr>\n    <tr>\n      <th>6976</th>\n      <td>黑马</td>\n      <td>6</td>\n    </tr>\n    <tr>\n      <th>6977</th>\n      <td>默片</td>\n      <td>1</td>\n    </tr>\n    <tr>\n      <th>6978</th>\n      <td>默认</td>\n      <td>2</td>\n    </tr>\n    <tr>\n      <th>6979</th>\n      <td>鼓励</td>\n      <td>21</td>\n    </tr>\n    <tr>\n      <th>6980</th>\n      <td>鼓掌</td>\n      <td>2</td>\n    </tr>\n    <tr>\n      <th>6981</th>\n      <td>鼓起来</td>\n      <td>1</td>\n    </tr>\n    <tr>\n      <th>6982</th>\n      <td>鼻子</td>\n      <td>1</td>\n    </tr>\n    <tr>\n      <th>6983</th>\n      <td>鼻涕</td>\n      <td>3</td>\n    </tr>\n    <tr>\n      <th>6984</th>\n      <td>齐天大圣</td>\n      <td>3</td>\n    </tr>\n    <tr>\n      <th>6985</th>\n      <td>龙偶</td>\n      <td>1</td>\n    </tr>\n    <tr>\n      <th>6986</th>\n      <td>龙太子</td>\n      <td>3</td>\n    </tr>\n    <tr>\n      <th>6987</th>\n      <td>龙子</td>\n      <td>1</td>\n    </tr>\n    <tr>\n      <th>6988</th>\n      <td>龙宫</td>\n      <td>5</td>\n    </tr>\n    <tr>\n      <th>6989</th>\n      <td>龙族</td>\n      <td>24</td>\n    </tr>\n    <tr>\n      <th>6990</th>\n      <td>龙王</td>\n      <td>11</td>\n    </tr>\n    <tr>\n      <th>6991</th>\n      <td>龙皮</td>\n      <td>1</td>\n    </tr>\n    <tr>\n      <th>6992</th>\n      <td>龙锤</td>\n      <td>1</td>\n    </tr>\n    <tr>\n      <th>6993</th>\n      <td>龙龙</td>\n      <td>1</td>\n    </tr>\n  </tbody>\n</table>\n<p>6994 rows × 2 columns</p>\n</div>"
     },
     "metadata": {},
     "output_type": "execute_result",
     "execution_count": 11
    }
   ],
   "source": [
    "txts = \" \".join(t1.values.tolist())# 将这一列的值转化为一个列表并把列表转化为一个字符串\n",
    "result = jieba.cut(txts) #用jieba进行分词\n",
    "\n",
    "stopwords = open(\"百度停用词列表.txt\",encoding=\"utf-8\").read()\n",
    "stopwords = stopwords.split(\"\\n\")\n",
    "\n",
    "# 选择词的长度大于1和不在停用词表中的词语作为关键词\n",
    "allwords = [word for word in result if len(word)>1 and word not in stopwords]\n",
    "\n",
    "# 对属性word里面的每一个词进行分组统计其出现的次数\n",
    "res = pd.DataFrame(allwords,columns=[\"word\"])\n",
    "res = res[\"word\"].groupby(res[\"word\"]).count()\n",
    "\n",
    "# 词的列名改为name，原来index位置上的列名“word”改为词数量那一列的列名\n",
    "res.index.name=\"name\"\n",
    "res = res.reset_index()\n",
    "\n",
    "# 5.给索引列赋值，并过滤出我们需要的次数超过1的词\n",
    "res = res[res[\"word\"] > 5].reset_index(drop=True)# 后面的是把之前的<=5的词删掉\n",
    "# res\n",
    "\n",
    "name = res[\"name\"].tolist()\n",
    "number = res[\"word\"].tolist()\n",
    "\n",
    "wc = WordCloud(width=1200,height=500)\n",
    "wc.add(\"\",name,number,word_size_range=[20,100])\n",
    "wc.render(\"哪吒评论词云分析.html\")"
   ],
   "metadata": {
    "collapsed": false,
    "pycharm": {
     "name": "#%%\n",
     "is_executing": false
    }
   }
  }
 ],
 "metadata": {
  "kernelspec": {
   "display_name": "Python 3",
   "language": "python",
   "name": "python3"
  },
  "language_info": {
   "codemirror_mode": {
    "name": "ipython",
    "version": 2
   },
   "file_extension": ".py",
   "mimetype": "text/x-python",
   "name": "python",
   "nbconvert_exporter": "python",
   "pygments_lexer": "ipython2",
   "version": "2.7.6"
  },
  "pycharm": {
   "stem_cell": {
    "cell_type": "raw",
    "source": [],
    "metadata": {
     "collapsed": false
    }
   }
  }
 },
 "nbformat": 4,
 "nbformat_minor": 0
}