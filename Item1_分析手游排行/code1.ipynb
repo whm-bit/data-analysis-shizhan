{
 "cells": [
  {
   "cell_type": "code",
   "execution_count": null,
   "metadata": {
    "collapsed": true,
    "pycharm": {
     "is_executing": false
    }
   },
   "outputs": [],
   "source": [
    "import numpy as np\n",
    "import pandas as pd\n",
    "import matplotlib.pyplot as plt\n",
    "import jieba\n",
    "import re\n",
    "from pyecharts import WordCloud\n",
    "import matplotlib as mpl\n",
    "mpl.rcParams[\"font.family\"] = \"SimHei\"\n",
    "mpl.rcParams[\"axes.unicode_minus\"]=False\n",
    "\n"
   ]
  },
  {
   "cell_type": "code",
   "execution_count": null,
   "outputs": [],
   "source": [
    "df = pd.read_csv(\"game_data.csv\",encoding=\"utf-8\")\n",
    "# df\n",
    "# 显示最大列数为100\n",
    "pd.set_option(\"max_columns\",100)\n",
    "df.head(5)"
   ],
   "metadata": {
    "collapsed": false,
    "pycharm": {
     "name": "#%%\n",
     "is_executing": false
    }
   }
  },
  {
   "cell_type": "code",
   "execution_count": 11,
   "outputs": [
    {
     "name": "stdout",
     "text": [
      "<class 'pandas.core.frame.DataFrame'>\n",
      "RangeIndex: 240 entries, 0 to 239\n",
      "Data columns (total 4 columns):\n",
      "game_name     240 non-null object\n",
      "box_txt       240 non-null object\n",
      "game_tag      199 non-null object\n",
      "game_intro    240 non-null object\n",
      "dtypes: object(4)\n",
      "memory usage: 7.6+ KB\n"
     ],
     "output_type": "stream"
    },
    {
     "data": {
      "text/plain": "       game_name                           box_txt game_tag  \\\ncount        240                               240      199   \nunique       240                               220      114   \ntop        洛克的任务  开发：SQUARE ENIX | 网络：单机 | 类型：角色扮演       3D   \nfreq           1                                 5       30   \n\n                                               game_intro  \ncount                                                 240  \nunique                                                240  \ntop     《迷失岛2：时间的灰烬》是一款冒险解谜游戏，是游戏《迷失岛》的续作。《迷失岛》1代曾获得『A...  \nfreq                                                    1  ",
      "text/html": "<div>\n<style scoped>\n    .dataframe tbody tr th:only-of-type {\n        vertical-align: middle;\n    }\n\n    .dataframe tbody tr th {\n        vertical-align: top;\n    }\n\n    .dataframe thead th {\n        text-align: right;\n    }\n</style>\n<table border=\"1\" class=\"dataframe\">\n  <thead>\n    <tr style=\"text-align: right;\">\n      <th></th>\n      <th>game_name</th>\n      <th>box_txt</th>\n      <th>game_tag</th>\n      <th>game_intro</th>\n    </tr>\n  </thead>\n  <tbody>\n    <tr>\n      <th>count</th>\n      <td>240</td>\n      <td>240</td>\n      <td>199</td>\n      <td>240</td>\n    </tr>\n    <tr>\n      <th>unique</th>\n      <td>240</td>\n      <td>220</td>\n      <td>114</td>\n      <td>240</td>\n    </tr>\n    <tr>\n      <th>top</th>\n      <td>洛克的任务</td>\n      <td>开发：SQUARE ENIX | 网络：单机 | 类型：角色扮演</td>\n      <td>3D</td>\n      <td>《迷失岛2：时间的灰烬》是一款冒险解谜游戏，是游戏《迷失岛》的续作。《迷失岛》1代曾获得『A...</td>\n    </tr>\n    <tr>\n      <th>freq</th>\n      <td>1</td>\n      <td>5</td>\n      <td>30</td>\n      <td>1</td>\n    </tr>\n  </tbody>\n</table>\n</div>"
     },
     "metadata": {},
     "output_type": "execute_result",
     "execution_count": 11
    }
   ],
   "source": [
    "# 缺失值处理\n",
    "df.info()\n",
    "# 根据显示的结果“game_tag”只有199条数据，存在缺失值\n",
    "\n",
    "df.describe()\n",
    "\n",
    "# 箱线图看整体数据的范围\n",
    "df[\"rate\"].plot(kind=\"box\")"
   ],
   "metadata": {
    "collapsed": false,
    "pycharm": {
     "name": "#%%\n",
     "is_executing": false
    }
   }
  },
  {
   "cell_type": "code",
   "execution_count": 13,
   "outputs": [
    {
     "data": {
      "text/plain": "         game_name                                      box_txt  \\\n0         精灵宝可梦：GO               开发：NianticLabs | 网络：网游 | 类型：冒险   \n1           饥饿鲨：世界                 开发：Ubisoft | 网络：单机 | 类型：休闲益智   \n2          石器时代：起源         开发：Netmarble Games | 网络：网游 | 类型：角色扮演   \n3           使命召唤手游                      开发：腾讯游戏 | 网络：网游 | 类型：射击   \n4           小小发型师3            开发：Toca Boca AB | 网络：单机 | 类型：益智休闲   \n5         NBA 2K19                 开发：2K Sports | 网络：单机 | 类型：体育   \n6              崩坏3                     开发：米哈游科技 | 网络：网游 | 类型：动作   \n7          火焰纹章：英雄                开发：Nintendo | 网络：单机 | 类型：角色扮演   \n8             闪耀暖暖                      开发：叠纸游戏 | 网络：网游 | 类型：养成   \n9         游戏王：决斗链接                    开发：KONAMI | 网络：网游 | 类型：卡牌   \n10          宝可梦大探险           开发：Nintendo、网易游戏 | 网络：网游 | 类型：角色扮演   \n11         命运-冠位指定               开发：TYPE-MOON | 网络：网游 | 类型：角色扮演   \n12        地下城与勇士：魂             开发：NEXON Company | 网络：网游 | 类型：动作   \n13            王者荣耀                    开发：腾讯游戏 | 网络：网游 | 类型：MOBA   \n14            绝境北方                  开发：Raw Fury | 网络：单机 | 类型：策略   \n15          饥荒：口袋版        开发：Klei Entertainment | 网络：单机 | 类型：冒险   \n16            冒险岛M           开发：NEXON Company | 网络：网游 | 类型：角色扮演   \n17         超级马里奥奔跑                  开发：Nintendo | 网络：单机 | 类型：跑酷   \n18      火力全开之开放城市2              开发：MadOut Games | 网络：单机 | 类型：竞速   \n19            和平精英                      开发：腾讯游戏 | 网络：网游 | 类型：射击   \n20      失落的记忆：现实交替  开发：Psychose Interactive Inc | 网络：单机 | 类型：冒险   \n21      病娇模拟器（完整版）        开发：Tea & Cake Games | 网络：单机 | 类型：角色扮演   \n22         怪物猎人：探险                开发：CAPCOM | 网络：网游 | 类型：动作角色扮演   \n23      恐怖学校：白色情人节             开发：ROIGAMES Inc. | 网络：单机 | 类型：冒险   \n24           战舰少女r                    开发：幻萌网络 | 网络：网游 | 类型：策略经营   \n25         死亡岛：幸存者    开发：FISHLABS & Deep Silver | 网络：单机 | 类型：动作   \n26            反叛公司    开发：Ndemic Creations LTD | 网络：单机 | 类型：策略经营   \n27         真·三国无双斩             开发：NEXON Company | 网络：网游 | 类型：动作   \n28             攀爬侠    开发：Good Thoughts Affect | 网络：单机 | 类型：角色扮演   \n29       刀剑神域：关键斗士            开发：BANDAI NAMCO | 网络：网游 | 类型：角色扮演   \n..             ...                                          ...   \n210           方舟指令                      开发：明朝互动 | 网络：网游 | 类型：策略   \n211           画中世界   开发：Annapurna Interactive | 网络：单机 | 类型：益智解谜   \n212          战神：夜袭              开发：HandyGames | 网络：单机 | 类型：角色扮演   \n213         猫和老鼠手游                      开发：网易游戏 | 网络：网游 | 类型：动作   \n214     SD高达G世纪：革命            开发：BANDAI NAMCO | 网络：网游 | 类型：角色扮演   \n215      恶魔城：月下夜想曲                    开发：KONAMI | 网络：单机 | 类型：动作   \n216           薯片厨房              开发：G.Gear.inc | 网络：单机 | 类型：益智休闲   \n217       七龙珠：激战传说              开发：BANDAI NAMCO | 网络：单机 | 类型：动作   \n218      王牌战争：代号英雄                开发：北京游帮科技有限公司 | 网络：单机 | 类型：射击   \n219         网易四川棋牌                      开发：网易 | 网络：网游 | 类型：棋牌娱乐   \n220          铁拳移动版              开发：BANDAI NAMCO | 网络：单机 | 类型：格斗   \n221   乐高幻影忍者：罗宁的阴影              开发：Warner Bros. | 网络：单机 | 类型：动作   \n222          黑暗料理王              开发：OfunaGames | 网络：单机 | 类型：策略经营   \n223         科学VS狂怒                开发：10tons Ltd | 网络：单机 | 类型：射击   \n224           率土之滨                        开发：网易 | 网络：网游 | 类型：策略   \n225  仙剑奇侠传1：DOS怀旧版                    开发：大宇软件 | 网络：单机 | 类型：角色扮演   \n226           战箭天下                      开发：墨游科技 | 网络：网游 | 类型：动作   \n227            文明6         开发：Aspyr Media, Inc. | 网络：单机 | 类型：策略   \n228           ICEY              开发：上海幻刃网络科技有限公司 | 网络：单机 | 类型：动作   \n229    FIFA Mobile           开发：Electronic Arts | 网络：单机 | 类型：体育   \n230          魔女之泉2               开发：Kiwiwalks | 网络：单机 | 类型：角色扮演   \n231           杀手GO               开发：Square Enix | 网络：单机 | 类型：策略   \n232         迷你DayZ  开发：Bohemia Interactive a.s. | 网络：单机 | 类型：冒险   \n233          石器时代M                      开发：未知 | 网络：网游 | 类型：角色扮演   \n234      植物大战僵尸：英雄           开发：Electronic Arts | 网络：网游 | 类型：卡牌   \n235           混音大师       开发：Youth Control Games | 网络：单机 | 类型：音乐   \n236       的士模拟2020              开发：Ovidiu Pop | 网络：单机 | 类型：策略经营   \n237         模拟农场18         开发：GIANTS Software | 网络：单机 | 类型：策略经营   \n238       NBA 2K18                        开发：2K | 网络：单机 | 类型：体育   \n239          帕斯卡契约                 开发：TipsWorks | 网络：网游 | 类型：动作   \n\n              game_tag                                         game_intro  \n0               3D,二次元  【安卓版注意事项】游戏需要Google Play账号，Google Play市场、Googl...  \n1                   3D  【安卓版注意事项】游戏需要Google Play支持。【游戏介绍】《饥饿鲨：世界》是由Ubi...  \n2                   3D  《石器时代：起源》是一款由Netmarble Games开发的角色扮演游戏。游戏秉承了《石器...  \n3            3D,高画质,战争  国际服：【安卓版注意事项】本作需要Google Play支持并使用代理才能开始游戏。游戏下载...  \n4                  NaN  《小小发型师3》是由Toca Boca AB出品的一款益智休闲游戏，这款人气爆棚的应用现已全...  \n5               3D,高画质  【安卓版注意事项】游戏下载完成后请解压缩并按照内部的说明文档操作即可。【游戏介绍】NBA 2...  \n6               3D,二次元  休伯利安号，指挥系统切换至战斗舰桥。辅助引擎能量急速上升，开始向主机输送点火动力，距离临界值...  \n7                  NaN  【安卓版注意事项】本游戏需要谷歌市场及谷歌框架才能开始游戏。【iOS版注意事项】本游戏需要日...  \n8        美少女,国产,3D,高画质  暖暖系列首款次世代3D巨作，以最高技术标准呈现数千种不同的材质，打造无限风格的至美服装盛宴。...  \n9            二次元,改编,科幻  《游戏王：决斗链接》是由KONAMI研发，网易独家代理的官方正版手游。在决斗链接的世界里，化...  \n10            3D,萌物,奇幻  《宝可梦大探险》是一款以方块造型的宝可梦为主角的休闲收集对战手游。在名为“方可乐”的岛屿上，...  \n11              3D,二次元  《命运-冠位指定》是一款由TYPE-MOON开发的角色扮演游戏。本作根据《命运之夜》改编而来...  \n12             3D,横版卷轴  《地下城与勇士：魂》是由NEXON Company出品的一款动作游戏。在游戏中，玩家可以操作...  \n13               3D,三国  《王者荣耀》是一款由腾讯天美工作室开发，腾讯游戏运营的MOBA手游。在游戏中赵云、昭君、曹操...  \n14                 高画质  【iOS版注意事项】本游戏需要港区帐号才能下载安装。【游戏介绍】《绝境北方》，又名《北方绝境...  \n15                  生存  《饥荒》是独立游戏开发团队Klei Entertainment在2013年于PC平台发布的一...  \n16                横版卷轴  【安卓版注意事项】游戏下载完成后，需要下载大小在1个G左右的数据包，推荐挂载VPN进行。【i...  \n17                横版卷轴  【安卓版注意事项】经常出现加载失败的情况请使用代理进入游戏。【iOS版注意事项】本游戏需要台...  \n18                  3D  《火力全开之开放城市2》是由MadOut Games出品的一款竞速游戏，欧美风情的城市中乡村...  \n19            国产,沙盒,生存  《和平精英》是腾讯光子工作室群自研打造的反恐军事竞赛体验手游。虚幻引擎4研发，次世代完美画质...  \n20            惊悚恐怖,高画质  在《失落的记忆》中，你将扮演露丝·霍金斯，一个坚强而独立的女人，她正在寻找一名失踪的孩子伊甸...  \n21                  3D  《病娇模拟器》是一款萌妹子模拟类游戏。在游戏中玩家扮演的女学生因极度迷恋学长，而无法接受其他...  \n22                  3D  【安卓版注意事项】游戏不支持root手机。【iOS版注意事项】本游戏需要台湾区帐号才能下载安...  \n23             惊悚恐怖,3D  《恐怖学校：白色情人节》是一款由ROIGAMES Inc.开发的冒险解谜游戏。本作实际上根据...  \n24                 二次元  《战舰少女r》是一款由幻萌网络开发、上海尽游网络运营的策略游戏。游戏有着全新的Q版战斗方式，...  \n25   生存,科幻,惊悚恐怖,3D,高画质  《死亡岛：幸存者》，头号丧尸系列游戏登陆手机平台！集结你的英雄小队，强化基地，与朋友共同面对...  \n26                  模拟  你能阻止一场致命的叛乱吗？这是一款设计独特的、深入人心的政治/军事模拟游戏。战争已经“结束”...  \n27               3D,三国  【安卓版注意事项】游戏需要谷歌商店支持且需要使用代理下载700MB左右的数据，请保持网络畅通...  \n28                  3D  《攀爬侠》是一款3D的超级英雄模拟器。游戏中的主角，力大无穷能一脚踹飞汽车同时还有像蜘蛛侠一...  \n29                 二次元  【iOS版注意事项】本游戏需要港区帐号才能下载安装。【游戏介绍】这一次，主角就是你！成为攻略...  \n..                 ...                                                ...  \n210      科幻,美少女,国产,二次元  科技发达的2353年，对战少女人形——【誓灵】在社会上引发热潮。在由古老信仰的神秘力量和最尖...  \n211                NaN  《画中世界》是一款独具特色的解谜游戏，其故事情节围绕Jason Roberts设计和作画的精...  \n212             奇幻,回合制  《战神：夜袭》是一款由经典游戏机巨作激发的角色扮演游戏，拥有地下城深度探索、以经典JRPG格...  \n213          国产,二次元,改编  猫鼠追逃，尽享互动乐趣。智勇较量，谁能赢得胜利？《猫和老鼠》是由华纳兄弟互动娱乐正版IP授权...  \n214                二次元  【安卓版注意事项】本作需要谷歌市场支持并使用代理才能开始游戏。【iOS版注意事项】本游戏需要...  \n215         横版卷轴,像素,奇幻  由KONAMI制作的招牌动作游戏《恶魔城：月下夜想曲》是系列游戏的最经典的作品。公元1792...  \n216              放置,汉化  《薯片厨房》是由G.Gear.inc出品的一款益智休闲游戏。在游戏中，添加各种美味的配方，来...  \n217                二次元  【iOS版注意事项】本游戏需要港区帐号才能下载安装。【游戏介绍】全球期待已久的《七龙珠》智能...  \n218                 生存  《王牌战争：代号英雄》是英雄互娱自研并发行的首款生存竞技手游，8×8超大地图，畅爽娱乐局，人...  \n219                NaN  《网易四川棋牌》是国内首款结合成都本地特色、高度还原真人打牌场景并首创融入RPG玩法的一款的...  \n220                 3D  铁拳，世界上最成功的格斗游戏！ 加入PAUL，KAZUYA，XIAOYU，LAW，PANDA...  \n221                 3D  【安卓版注意事项】本作需要数据包才能开始游戏。【游戏介绍】《乐高幻影忍者：罗宁的阴影》是一款...  \n222          Roguelike  这是一个表面上看起来和现实世界一样，但是地面以下却完全不同的里世界。在这个里世界里，普通人类...  \n223                 奇幻  在尼古拉·特斯拉创作最伟大发明的前夕，他的实验室被恐怖主义作家霍华德·菲利普·洛夫克拉夫特所...  \n224                 三国  普天之下，莫非王土；率土之滨，莫非王臣。沙盘战略，寸土必争！网易《率土之滨》开启沙盘战略元年...  \n225                NaN  《仙剑奇侠传1：DOS怀旧版》是1995年7月10日发行的DOS移植版，本作作为华人最经典的...  \n226        3D,高画质,重力感应  《战箭天下》（Battle Of Arrow），是一款1对1轻竞技对战手游。游戏以骑马射箭为...  \n227                NaN  ** 2016年度策略游戏 – 游戏大奖**iOS版《文明 VI》现已推出。立即下载，前60...  \n228               横版卷轴  《ICEY》是一款2D横版动作游戏，跟随旁白的指示，你将会通过ICEY的眼睛去看，去战斗并发...  \n229                 3D  【安卓版注意事项】初次运行游戏如果网络不太稳定可选择挂载VPN，加载时间较长请耐心等待。【i...  \n230                 3D  《魔女之泉2》是一款由Kiwiwalks开发的角色扮演游戏，是《魔女之泉》的续作。本作延续了...  \n231                 3D  《杀手GO》或称《杀手：行动》是一款Square Enix开发的回合制战略游戏，游戏画面呈现...  \n232                 像素  《迷你DayZ》是由Bohemia Interactive a.s.出品的一款生存冒险游戏，...  \n233          回合制,奇幻,3D  官网地址：超高人气始祖IP回归，3D高画质全新演绎！拿起石斧、捕获骑宠和野兽去战斗！《石器时...  \n234                NaN  【安卓版注意事项】本作需要挂载VPN才能开始游戏。【iOS版注意事项】本作需要港区账号才能下...  \n235                NaN  从小型夜总会，到大型狂欢活动的头条新闻，开展您的DJ事业！《混音大师》是一款DJ音乐游戏，创...  \n236           3D,模拟,汉化  在《的士模拟2020》中体验驾驶的乐趣吧！以出租车司机或私人的士司机的身份完成各式各样的驾驶...  \n237                 3D  《模拟农场18》是由GIANTS Software出品的一款策略经营游戏，成为 Farmin...  \n238                NaN  NBA 2K系列再次回归了，《NBA 2K18》移动版将为赛场带来前所未有的真实性和改进。其...  \n239        奇幻,高画质,惊悚恐怖  《帕斯卡契约》的故事中，太阳在上古时代因为一场天灾而沉入海底，世界被名为“污秽”的黑雾所笼罩...  \n\n[240 rows x 4 columns]",
      "text/html": "<div>\n<style scoped>\n    .dataframe tbody tr th:only-of-type {\n        vertical-align: middle;\n    }\n\n    .dataframe tbody tr th {\n        vertical-align: top;\n    }\n\n    .dataframe thead th {\n        text-align: right;\n    }\n</style>\n<table border=\"1\" class=\"dataframe\">\n  <thead>\n    <tr style=\"text-align: right;\">\n      <th></th>\n      <th>game_name</th>\n      <th>box_txt</th>\n      <th>game_tag</th>\n      <th>game_intro</th>\n    </tr>\n  </thead>\n  <tbody>\n    <tr>\n      <th>0</th>\n      <td>精灵宝可梦：GO</td>\n      <td>开发：NianticLabs | 网络：网游 | 类型：冒险</td>\n      <td>3D,二次元</td>\n      <td>【安卓版注意事项】游戏需要Google Play账号，Google Play市场、Googl...</td>\n    </tr>\n    <tr>\n      <th>1</th>\n      <td>饥饿鲨：世界</td>\n      <td>开发：Ubisoft | 网络：单机 | 类型：休闲益智</td>\n      <td>3D</td>\n      <td>【安卓版注意事项】游戏需要Google Play支持。【游戏介绍】《饥饿鲨：世界》是由Ubi...</td>\n    </tr>\n    <tr>\n      <th>2</th>\n      <td>石器时代：起源</td>\n      <td>开发：Netmarble Games | 网络：网游 | 类型：角色扮演</td>\n      <td>3D</td>\n      <td>《石器时代：起源》是一款由Netmarble Games开发的角色扮演游戏。游戏秉承了《石器...</td>\n    </tr>\n    <tr>\n      <th>3</th>\n      <td>使命召唤手游</td>\n      <td>开发：腾讯游戏 | 网络：网游 | 类型：射击</td>\n      <td>3D,高画质,战争</td>\n      <td>国际服：【安卓版注意事项】本作需要Google Play支持并使用代理才能开始游戏。游戏下载...</td>\n    </tr>\n    <tr>\n      <th>4</th>\n      <td>小小发型师3</td>\n      <td>开发：Toca Boca AB | 网络：单机 | 类型：益智休闲</td>\n      <td>NaN</td>\n      <td>《小小发型师3》是由Toca Boca AB出品的一款益智休闲游戏，这款人气爆棚的应用现已全...</td>\n    </tr>\n    <tr>\n      <th>5</th>\n      <td>NBA 2K19</td>\n      <td>开发：2K Sports | 网络：单机 | 类型：体育</td>\n      <td>3D,高画质</td>\n      <td>【安卓版注意事项】游戏下载完成后请解压缩并按照内部的说明文档操作即可。【游戏介绍】NBA 2...</td>\n    </tr>\n    <tr>\n      <th>6</th>\n      <td>崩坏3</td>\n      <td>开发：米哈游科技 | 网络：网游 | 类型：动作</td>\n      <td>3D,二次元</td>\n      <td>休伯利安号，指挥系统切换至战斗舰桥。辅助引擎能量急速上升，开始向主机输送点火动力，距离临界值...</td>\n    </tr>\n    <tr>\n      <th>7</th>\n      <td>火焰纹章：英雄</td>\n      <td>开发：Nintendo | 网络：单机 | 类型：角色扮演</td>\n      <td>NaN</td>\n      <td>【安卓版注意事项】本游戏需要谷歌市场及谷歌框架才能开始游戏。【iOS版注意事项】本游戏需要日...</td>\n    </tr>\n    <tr>\n      <th>8</th>\n      <td>闪耀暖暖</td>\n      <td>开发：叠纸游戏 | 网络：网游 | 类型：养成</td>\n      <td>美少女,国产,3D,高画质</td>\n      <td>暖暖系列首款次世代3D巨作，以最高技术标准呈现数千种不同的材质，打造无限风格的至美服装盛宴。...</td>\n    </tr>\n    <tr>\n      <th>9</th>\n      <td>游戏王：决斗链接</td>\n      <td>开发：KONAMI | 网络：网游 | 类型：卡牌</td>\n      <td>二次元,改编,科幻</td>\n      <td>《游戏王：决斗链接》是由KONAMI研发，网易独家代理的官方正版手游。在决斗链接的世界里，化...</td>\n    </tr>\n    <tr>\n      <th>10</th>\n      <td>宝可梦大探险</td>\n      <td>开发：Nintendo、网易游戏 | 网络：网游 | 类型：角色扮演</td>\n      <td>3D,萌物,奇幻</td>\n      <td>《宝可梦大探险》是一款以方块造型的宝可梦为主角的休闲收集对战手游。在名为“方可乐”的岛屿上，...</td>\n    </tr>\n    <tr>\n      <th>11</th>\n      <td>命运-冠位指定</td>\n      <td>开发：TYPE-MOON | 网络：网游 | 类型：角色扮演</td>\n      <td>3D,二次元</td>\n      <td>《命运-冠位指定》是一款由TYPE-MOON开发的角色扮演游戏。本作根据《命运之夜》改编而来...</td>\n    </tr>\n    <tr>\n      <th>12</th>\n      <td>地下城与勇士：魂</td>\n      <td>开发：NEXON Company | 网络：网游 | 类型：动作</td>\n      <td>3D,横版卷轴</td>\n      <td>《地下城与勇士：魂》是由NEXON Company出品的一款动作游戏。在游戏中，玩家可以操作...</td>\n    </tr>\n    <tr>\n      <th>13</th>\n      <td>王者荣耀</td>\n      <td>开发：腾讯游戏 | 网络：网游 | 类型：MOBA</td>\n      <td>3D,三国</td>\n      <td>《王者荣耀》是一款由腾讯天美工作室开发，腾讯游戏运营的MOBA手游。在游戏中赵云、昭君、曹操...</td>\n    </tr>\n    <tr>\n      <th>14</th>\n      <td>绝境北方</td>\n      <td>开发：Raw Fury | 网络：单机 | 类型：策略</td>\n      <td>高画质</td>\n      <td>【iOS版注意事项】本游戏需要港区帐号才能下载安装。【游戏介绍】《绝境北方》，又名《北方绝境...</td>\n    </tr>\n    <tr>\n      <th>15</th>\n      <td>饥荒：口袋版</td>\n      <td>开发：Klei Entertainment | 网络：单机 | 类型：冒险</td>\n      <td>生存</td>\n      <td>《饥荒》是独立游戏开发团队Klei Entertainment在2013年于PC平台发布的一...</td>\n    </tr>\n    <tr>\n      <th>16</th>\n      <td>冒险岛M</td>\n      <td>开发：NEXON Company | 网络：网游 | 类型：角色扮演</td>\n      <td>横版卷轴</td>\n      <td>【安卓版注意事项】游戏下载完成后，需要下载大小在1个G左右的数据包，推荐挂载VPN进行。【i...</td>\n    </tr>\n    <tr>\n      <th>17</th>\n      <td>超级马里奥奔跑</td>\n      <td>开发：Nintendo | 网络：单机 | 类型：跑酷</td>\n      <td>横版卷轴</td>\n      <td>【安卓版注意事项】经常出现加载失败的情况请使用代理进入游戏。【iOS版注意事项】本游戏需要台...</td>\n    </tr>\n    <tr>\n      <th>18</th>\n      <td>火力全开之开放城市2</td>\n      <td>开发：MadOut Games | 网络：单机 | 类型：竞速</td>\n      <td>3D</td>\n      <td>《火力全开之开放城市2》是由MadOut Games出品的一款竞速游戏，欧美风情的城市中乡村...</td>\n    </tr>\n    <tr>\n      <th>19</th>\n      <td>和平精英</td>\n      <td>开发：腾讯游戏 | 网络：网游 | 类型：射击</td>\n      <td>国产,沙盒,生存</td>\n      <td>《和平精英》是腾讯光子工作室群自研打造的反恐军事竞赛体验手游。虚幻引擎4研发，次世代完美画质...</td>\n    </tr>\n    <tr>\n      <th>20</th>\n      <td>失落的记忆：现实交替</td>\n      <td>开发：Psychose Interactive Inc | 网络：单机 | 类型：冒险</td>\n      <td>惊悚恐怖,高画质</td>\n      <td>在《失落的记忆》中，你将扮演露丝·霍金斯，一个坚强而独立的女人，她正在寻找一名失踪的孩子伊甸...</td>\n    </tr>\n    <tr>\n      <th>21</th>\n      <td>病娇模拟器（完整版）</td>\n      <td>开发：Tea &amp; Cake Games | 网络：单机 | 类型：角色扮演</td>\n      <td>3D</td>\n      <td>《病娇模拟器》是一款萌妹子模拟类游戏。在游戏中玩家扮演的女学生因极度迷恋学长，而无法接受其他...</td>\n    </tr>\n    <tr>\n      <th>22</th>\n      <td>怪物猎人：探险</td>\n      <td>开发：CAPCOM | 网络：网游 | 类型：动作角色扮演</td>\n      <td>3D</td>\n      <td>【安卓版注意事项】游戏不支持root手机。【iOS版注意事项】本游戏需要台湾区帐号才能下载安...</td>\n    </tr>\n    <tr>\n      <th>23</th>\n      <td>恐怖学校：白色情人节</td>\n      <td>开发：ROIGAMES Inc. | 网络：单机 | 类型：冒险</td>\n      <td>惊悚恐怖,3D</td>\n      <td>《恐怖学校：白色情人节》是一款由ROIGAMES Inc.开发的冒险解谜游戏。本作实际上根据...</td>\n    </tr>\n    <tr>\n      <th>24</th>\n      <td>战舰少女r</td>\n      <td>开发：幻萌网络 | 网络：网游 | 类型：策略经营</td>\n      <td>二次元</td>\n      <td>《战舰少女r》是一款由幻萌网络开发、上海尽游网络运营的策略游戏。游戏有着全新的Q版战斗方式，...</td>\n    </tr>\n    <tr>\n      <th>25</th>\n      <td>死亡岛：幸存者</td>\n      <td>开发：FISHLABS &amp; Deep Silver | 网络：单机 | 类型：动作</td>\n      <td>生存,科幻,惊悚恐怖,3D,高画质</td>\n      <td>《死亡岛：幸存者》，头号丧尸系列游戏登陆手机平台！集结你的英雄小队，强化基地，与朋友共同面对...</td>\n    </tr>\n    <tr>\n      <th>26</th>\n      <td>反叛公司</td>\n      <td>开发：Ndemic Creations LTD | 网络：单机 | 类型：策略经营</td>\n      <td>模拟</td>\n      <td>你能阻止一场致命的叛乱吗？这是一款设计独特的、深入人心的政治/军事模拟游戏。战争已经“结束”...</td>\n    </tr>\n    <tr>\n      <th>27</th>\n      <td>真·三国无双斩</td>\n      <td>开发：NEXON Company | 网络：网游 | 类型：动作</td>\n      <td>3D,三国</td>\n      <td>【安卓版注意事项】游戏需要谷歌商店支持且需要使用代理下载700MB左右的数据，请保持网络畅通...</td>\n    </tr>\n    <tr>\n      <th>28</th>\n      <td>攀爬侠</td>\n      <td>开发：Good Thoughts Affect | 网络：单机 | 类型：角色扮演</td>\n      <td>3D</td>\n      <td>《攀爬侠》是一款3D的超级英雄模拟器。游戏中的主角，力大无穷能一脚踹飞汽车同时还有像蜘蛛侠一...</td>\n    </tr>\n    <tr>\n      <th>29</th>\n      <td>刀剑神域：关键斗士</td>\n      <td>开发：BANDAI NAMCO | 网络：网游 | 类型：角色扮演</td>\n      <td>二次元</td>\n      <td>【iOS版注意事项】本游戏需要港区帐号才能下载安装。【游戏介绍】这一次，主角就是你！成为攻略...</td>\n    </tr>\n    <tr>\n      <th>...</th>\n      <td>...</td>\n      <td>...</td>\n      <td>...</td>\n      <td>...</td>\n    </tr>\n    <tr>\n      <th>210</th>\n      <td>方舟指令</td>\n      <td>开发：明朝互动 | 网络：网游 | 类型：策略</td>\n      <td>科幻,美少女,国产,二次元</td>\n      <td>科技发达的2353年，对战少女人形——【誓灵】在社会上引发热潮。在由古老信仰的神秘力量和最尖...</td>\n    </tr>\n    <tr>\n      <th>211</th>\n      <td>画中世界</td>\n      <td>开发：Annapurna Interactive | 网络：单机 | 类型：益智解谜</td>\n      <td>NaN</td>\n      <td>《画中世界》是一款独具特色的解谜游戏，其故事情节围绕Jason Roberts设计和作画的精...</td>\n    </tr>\n    <tr>\n      <th>212</th>\n      <td>战神：夜袭</td>\n      <td>开发：HandyGames | 网络：单机 | 类型：角色扮演</td>\n      <td>奇幻,回合制</td>\n      <td>《战神：夜袭》是一款由经典游戏机巨作激发的角色扮演游戏，拥有地下城深度探索、以经典JRPG格...</td>\n    </tr>\n    <tr>\n      <th>213</th>\n      <td>猫和老鼠手游</td>\n      <td>开发：网易游戏 | 网络：网游 | 类型：动作</td>\n      <td>国产,二次元,改编</td>\n      <td>猫鼠追逃，尽享互动乐趣。智勇较量，谁能赢得胜利？《猫和老鼠》是由华纳兄弟互动娱乐正版IP授权...</td>\n    </tr>\n    <tr>\n      <th>214</th>\n      <td>SD高达G世纪：革命</td>\n      <td>开发：BANDAI NAMCO | 网络：网游 | 类型：角色扮演</td>\n      <td>二次元</td>\n      <td>【安卓版注意事项】本作需要谷歌市场支持并使用代理才能开始游戏。【iOS版注意事项】本游戏需要...</td>\n    </tr>\n    <tr>\n      <th>215</th>\n      <td>恶魔城：月下夜想曲</td>\n      <td>开发：KONAMI | 网络：单机 | 类型：动作</td>\n      <td>横版卷轴,像素,奇幻</td>\n      <td>由KONAMI制作的招牌动作游戏《恶魔城：月下夜想曲》是系列游戏的最经典的作品。公元1792...</td>\n    </tr>\n    <tr>\n      <th>216</th>\n      <td>薯片厨房</td>\n      <td>开发：G.Gear.inc | 网络：单机 | 类型：益智休闲</td>\n      <td>放置,汉化</td>\n      <td>《薯片厨房》是由G.Gear.inc出品的一款益智休闲游戏。在游戏中，添加各种美味的配方，来...</td>\n    </tr>\n    <tr>\n      <th>217</th>\n      <td>七龙珠：激战传说</td>\n      <td>开发：BANDAI NAMCO | 网络：单机 | 类型：动作</td>\n      <td>二次元</td>\n      <td>【iOS版注意事项】本游戏需要港区帐号才能下载安装。【游戏介绍】全球期待已久的《七龙珠》智能...</td>\n    </tr>\n    <tr>\n      <th>218</th>\n      <td>王牌战争：代号英雄</td>\n      <td>开发：北京游帮科技有限公司 | 网络：单机 | 类型：射击</td>\n      <td>生存</td>\n      <td>《王牌战争：代号英雄》是英雄互娱自研并发行的首款生存竞技手游，8×8超大地图，畅爽娱乐局，人...</td>\n    </tr>\n    <tr>\n      <th>219</th>\n      <td>网易四川棋牌</td>\n      <td>开发：网易 | 网络：网游 | 类型：棋牌娱乐</td>\n      <td>NaN</td>\n      <td>《网易四川棋牌》是国内首款结合成都本地特色、高度还原真人打牌场景并首创融入RPG玩法的一款的...</td>\n    </tr>\n    <tr>\n      <th>220</th>\n      <td>铁拳移动版</td>\n      <td>开发：BANDAI NAMCO | 网络：单机 | 类型：格斗</td>\n      <td>3D</td>\n      <td>铁拳，世界上最成功的格斗游戏！ 加入PAUL，KAZUYA，XIAOYU，LAW，PANDA...</td>\n    </tr>\n    <tr>\n      <th>221</th>\n      <td>乐高幻影忍者：罗宁的阴影</td>\n      <td>开发：Warner Bros. | 网络：单机 | 类型：动作</td>\n      <td>3D</td>\n      <td>【安卓版注意事项】本作需要数据包才能开始游戏。【游戏介绍】《乐高幻影忍者：罗宁的阴影》是一款...</td>\n    </tr>\n    <tr>\n      <th>222</th>\n      <td>黑暗料理王</td>\n      <td>开发：OfunaGames | 网络：单机 | 类型：策略经营</td>\n      <td>Roguelike</td>\n      <td>这是一个表面上看起来和现实世界一样，但是地面以下却完全不同的里世界。在这个里世界里，普通人类...</td>\n    </tr>\n    <tr>\n      <th>223</th>\n      <td>科学VS狂怒</td>\n      <td>开发：10tons Ltd | 网络：单机 | 类型：射击</td>\n      <td>奇幻</td>\n      <td>在尼古拉·特斯拉创作最伟大发明的前夕，他的实验室被恐怖主义作家霍华德·菲利普·洛夫克拉夫特所...</td>\n    </tr>\n    <tr>\n      <th>224</th>\n      <td>率土之滨</td>\n      <td>开发：网易 | 网络：网游 | 类型：策略</td>\n      <td>三国</td>\n      <td>普天之下，莫非王土；率土之滨，莫非王臣。沙盘战略，寸土必争！网易《率土之滨》开启沙盘战略元年...</td>\n    </tr>\n    <tr>\n      <th>225</th>\n      <td>仙剑奇侠传1：DOS怀旧版</td>\n      <td>开发：大宇软件 | 网络：单机 | 类型：角色扮演</td>\n      <td>NaN</td>\n      <td>《仙剑奇侠传1：DOS怀旧版》是1995年7月10日发行的DOS移植版，本作作为华人最经典的...</td>\n    </tr>\n    <tr>\n      <th>226</th>\n      <td>战箭天下</td>\n      <td>开发：墨游科技 | 网络：网游 | 类型：动作</td>\n      <td>3D,高画质,重力感应</td>\n      <td>《战箭天下》（Battle Of Arrow），是一款1对1轻竞技对战手游。游戏以骑马射箭为...</td>\n    </tr>\n    <tr>\n      <th>227</th>\n      <td>文明6</td>\n      <td>开发：Aspyr Media, Inc. | 网络：单机 | 类型：策略</td>\n      <td>NaN</td>\n      <td>** 2016年度策略游戏 – 游戏大奖**iOS版《文明 VI》现已推出。立即下载，前60...</td>\n    </tr>\n    <tr>\n      <th>228</th>\n      <td>ICEY</td>\n      <td>开发：上海幻刃网络科技有限公司 | 网络：单机 | 类型：动作</td>\n      <td>横版卷轴</td>\n      <td>《ICEY》是一款2D横版动作游戏，跟随旁白的指示，你将会通过ICEY的眼睛去看，去战斗并发...</td>\n    </tr>\n    <tr>\n      <th>229</th>\n      <td>FIFA Mobile</td>\n      <td>开发：Electronic Arts | 网络：单机 | 类型：体育</td>\n      <td>3D</td>\n      <td>【安卓版注意事项】初次运行游戏如果网络不太稳定可选择挂载VPN，加载时间较长请耐心等待。【i...</td>\n    </tr>\n    <tr>\n      <th>230</th>\n      <td>魔女之泉2</td>\n      <td>开发：Kiwiwalks | 网络：单机 | 类型：角色扮演</td>\n      <td>3D</td>\n      <td>《魔女之泉2》是一款由Kiwiwalks开发的角色扮演游戏，是《魔女之泉》的续作。本作延续了...</td>\n    </tr>\n    <tr>\n      <th>231</th>\n      <td>杀手GO</td>\n      <td>开发：Square Enix | 网络：单机 | 类型：策略</td>\n      <td>3D</td>\n      <td>《杀手GO》或称《杀手：行动》是一款Square Enix开发的回合制战略游戏，游戏画面呈现...</td>\n    </tr>\n    <tr>\n      <th>232</th>\n      <td>迷你DayZ</td>\n      <td>开发：Bohemia Interactive a.s. | 网络：单机 | 类型：冒险</td>\n      <td>像素</td>\n      <td>《迷你DayZ》是由Bohemia Interactive a.s.出品的一款生存冒险游戏，...</td>\n    </tr>\n    <tr>\n      <th>233</th>\n      <td>石器时代M</td>\n      <td>开发：未知 | 网络：网游 | 类型：角色扮演</td>\n      <td>回合制,奇幻,3D</td>\n      <td>官网地址：超高人气始祖IP回归，3D高画质全新演绎！拿起石斧、捕获骑宠和野兽去战斗！《石器时...</td>\n    </tr>\n    <tr>\n      <th>234</th>\n      <td>植物大战僵尸：英雄</td>\n      <td>开发：Electronic Arts | 网络：网游 | 类型：卡牌</td>\n      <td>NaN</td>\n      <td>【安卓版注意事项】本作需要挂载VPN才能开始游戏。【iOS版注意事项】本作需要港区账号才能下...</td>\n    </tr>\n    <tr>\n      <th>235</th>\n      <td>混音大师</td>\n      <td>开发：Youth Control Games | 网络：单机 | 类型：音乐</td>\n      <td>NaN</td>\n      <td>从小型夜总会，到大型狂欢活动的头条新闻，开展您的DJ事业！《混音大师》是一款DJ音乐游戏，创...</td>\n    </tr>\n    <tr>\n      <th>236</th>\n      <td>的士模拟2020</td>\n      <td>开发：Ovidiu Pop | 网络：单机 | 类型：策略经营</td>\n      <td>3D,模拟,汉化</td>\n      <td>在《的士模拟2020》中体验驾驶的乐趣吧！以出租车司机或私人的士司机的身份完成各式各样的驾驶...</td>\n    </tr>\n    <tr>\n      <th>237</th>\n      <td>模拟农场18</td>\n      <td>开发：GIANTS Software | 网络：单机 | 类型：策略经营</td>\n      <td>3D</td>\n      <td>《模拟农场18》是由GIANTS Software出品的一款策略经营游戏，成为 Farmin...</td>\n    </tr>\n    <tr>\n      <th>238</th>\n      <td>NBA 2K18</td>\n      <td>开发：2K | 网络：单机 | 类型：体育</td>\n      <td>NaN</td>\n      <td>NBA 2K系列再次回归了，《NBA 2K18》移动版将为赛场带来前所未有的真实性和改进。其...</td>\n    </tr>\n    <tr>\n      <th>239</th>\n      <td>帕斯卡契约</td>\n      <td>开发：TipsWorks | 网络：网游 | 类型：动作</td>\n      <td>奇幻,高画质,惊悚恐怖</td>\n      <td>《帕斯卡契约》的故事中，太阳在上古时代因为一场天灾而沉入海底，世界被名为“污秽”的黑雾所笼罩...</td>\n    </tr>\n  </tbody>\n</table>\n<p>240 rows × 4 columns</p>\n</div>"
     },
     "metadata": {},
     "output_type": "execute_result",
     "execution_count": 13
    }
   ],
   "source": [
    "# 重复值处理\n",
    "# 1,判断\n",
    "df.duplicated()\n",
    "# 2.去重\n",
    "df = df.drop_duplicates()\n",
    "df\n",
    "\n"
   ],
   "metadata": {
    "collapsed": false,
    "pycharm": {
     "name": "#%%\n",
     "is_executing": false
    }
   }
  },
  {
   "cell_type": "code",
   "execution_count": 14,
   "outputs": [
    {
     "data": {
      "text/plain": "         game_name           game_tag  \\\n0         精灵宝可梦：GO             3D,二次元   \n1           饥饿鲨：世界                 3D   \n2          石器时代：起源                 3D   \n3           使命召唤手游          3D,高画质,战争   \n4           小小发型师3                NaN   \n5         NBA 2K19             3D,高画质   \n6              崩坏3             3D,二次元   \n7          火焰纹章：英雄                NaN   \n8             闪耀暖暖      美少女,国产,3D,高画质   \n9         游戏王：决斗链接          二次元,改编,科幻   \n10          宝可梦大探险           3D,萌物,奇幻   \n11         命运-冠位指定             3D,二次元   \n12        地下城与勇士：魂            3D,横版卷轴   \n13            王者荣耀              3D,三国   \n14            绝境北方                高画质   \n15          饥荒：口袋版                 生存   \n16            冒险岛M               横版卷轴   \n17         超级马里奥奔跑               横版卷轴   \n18      火力全开之开放城市2                 3D   \n19            和平精英           国产,沙盒,生存   \n20      失落的记忆：现实交替           惊悚恐怖,高画质   \n21      病娇模拟器（完整版）                 3D   \n22         怪物猎人：探险                 3D   \n23      恐怖学校：白色情人节            惊悚恐怖,3D   \n24           战舰少女r                二次元   \n25         死亡岛：幸存者  生存,科幻,惊悚恐怖,3D,高画质   \n26            反叛公司                 模拟   \n27         真·三国无双斩              3D,三国   \n28             攀爬侠                 3D   \n29       刀剑神域：关键斗士                二次元   \n..             ...                ...   \n210           方舟指令      科幻,美少女,国产,二次元   \n211           画中世界                NaN   \n212          战神：夜袭             奇幻,回合制   \n213         猫和老鼠手游          国产,二次元,改编   \n214     SD高达G世纪：革命                二次元   \n215      恶魔城：月下夜想曲         横版卷轴,像素,奇幻   \n216           薯片厨房              放置,汉化   \n217       七龙珠：激战传说                二次元   \n218      王牌战争：代号英雄                 生存   \n219         网易四川棋牌                NaN   \n220          铁拳移动版                 3D   \n221   乐高幻影忍者：罗宁的阴影                 3D   \n222          黑暗料理王          Roguelike   \n223         科学VS狂怒                 奇幻   \n224           率土之滨                 三国   \n225  仙剑奇侠传1：DOS怀旧版                NaN   \n226           战箭天下        3D,高画质,重力感应   \n227            文明6                NaN   \n228           ICEY               横版卷轴   \n229    FIFA Mobile                 3D   \n230          魔女之泉2                 3D   \n231           杀手GO                 3D   \n232         迷你DayZ                 像素   \n233          石器时代M          回合制,奇幻,3D   \n234      植物大战僵尸：英雄                NaN   \n235           混音大师                NaN   \n236       的士模拟2020           3D,模拟,汉化   \n237         模拟农场18                 3D   \n238       NBA 2K18                NaN   \n239          帕斯卡契约        奇幻,高画质,惊悚恐怖   \n\n                                            game_intro  \\\n0    【安卓版注意事项】游戏需要Google Play账号，Google Play市场、Googl...   \n1    【安卓版注意事项】游戏需要Google Play支持。【游戏介绍】《饥饿鲨：世界》是由Ubi...   \n2    《石器时代：起源》是一款由Netmarble Games开发的角色扮演游戏。游戏秉承了《石器...   \n3    国际服：【安卓版注意事项】本作需要Google Play支持并使用代理才能开始游戏。游戏下载...   \n4    《小小发型师3》是由Toca Boca AB出品的一款益智休闲游戏，这款人气爆棚的应用现已全...   \n5    【安卓版注意事项】游戏下载完成后请解压缩并按照内部的说明文档操作即可。【游戏介绍】NBA 2...   \n6    休伯利安号，指挥系统切换至战斗舰桥。辅助引擎能量急速上升，开始向主机输送点火动力，距离临界值...   \n7    【安卓版注意事项】本游戏需要谷歌市场及谷歌框架才能开始游戏。【iOS版注意事项】本游戏需要日...   \n8    暖暖系列首款次世代3D巨作，以最高技术标准呈现数千种不同的材质，打造无限风格的至美服装盛宴。...   \n9    《游戏王：决斗链接》是由KONAMI研发，网易独家代理的官方正版手游。在决斗链接的世界里，化...   \n10   《宝可梦大探险》是一款以方块造型的宝可梦为主角的休闲收集对战手游。在名为“方可乐”的岛屿上，...   \n11   《命运-冠位指定》是一款由TYPE-MOON开发的角色扮演游戏。本作根据《命运之夜》改编而来...   \n12   《地下城与勇士：魂》是由NEXON Company出品的一款动作游戏。在游戏中，玩家可以操作...   \n13   《王者荣耀》是一款由腾讯天美工作室开发，腾讯游戏运营的MOBA手游。在游戏中赵云、昭君、曹操...   \n14   【iOS版注意事项】本游戏需要港区帐号才能下载安装。【游戏介绍】《绝境北方》，又名《北方绝境...   \n15   《饥荒》是独立游戏开发团队Klei Entertainment在2013年于PC平台发布的一...   \n16   【安卓版注意事项】游戏下载完成后，需要下载大小在1个G左右的数据包，推荐挂载VPN进行。【i...   \n17   【安卓版注意事项】经常出现加载失败的情况请使用代理进入游戏。【iOS版注意事项】本游戏需要台...   \n18   《火力全开之开放城市2》是由MadOut Games出品的一款竞速游戏，欧美风情的城市中乡村...   \n19   《和平精英》是腾讯光子工作室群自研打造的反恐军事竞赛体验手游。虚幻引擎4研发，次世代完美画质...   \n20   在《失落的记忆》中，你将扮演露丝·霍金斯，一个坚强而独立的女人，她正在寻找一名失踪的孩子伊甸...   \n21   《病娇模拟器》是一款萌妹子模拟类游戏。在游戏中玩家扮演的女学生因极度迷恋学长，而无法接受其他...   \n22   【安卓版注意事项】游戏不支持root手机。【iOS版注意事项】本游戏需要台湾区帐号才能下载安...   \n23   《恐怖学校：白色情人节》是一款由ROIGAMES Inc.开发的冒险解谜游戏。本作实际上根据...   \n24   《战舰少女r》是一款由幻萌网络开发、上海尽游网络运营的策略游戏。游戏有着全新的Q版战斗方式，...   \n25   《死亡岛：幸存者》，头号丧尸系列游戏登陆手机平台！集结你的英雄小队，强化基地，与朋友共同面对...   \n26   你能阻止一场致命的叛乱吗？这是一款设计独特的、深入人心的政治/军事模拟游戏。战争已经“结束”...   \n27   【安卓版注意事项】游戏需要谷歌商店支持且需要使用代理下载700MB左右的数据，请保持网络畅通...   \n28   《攀爬侠》是一款3D的超级英雄模拟器。游戏中的主角，力大无穷能一脚踹飞汽车同时还有像蜘蛛侠一...   \n29   【iOS版注意事项】本游戏需要港区帐号才能下载安装。【游戏介绍】这一次，主角就是你！成为攻略...   \n..                                                 ...   \n210  科技发达的2353年，对战少女人形——【誓灵】在社会上引发热潮。在由古老信仰的神秘力量和最尖...   \n211  《画中世界》是一款独具特色的解谜游戏，其故事情节围绕Jason Roberts设计和作画的精...   \n212  《战神：夜袭》是一款由经典游戏机巨作激发的角色扮演游戏，拥有地下城深度探索、以经典JRPG格...   \n213  猫鼠追逃，尽享互动乐趣。智勇较量，谁能赢得胜利？《猫和老鼠》是由华纳兄弟互动娱乐正版IP授权...   \n214  【安卓版注意事项】本作需要谷歌市场支持并使用代理才能开始游戏。【iOS版注意事项】本游戏需要...   \n215  由KONAMI制作的招牌动作游戏《恶魔城：月下夜想曲》是系列游戏的最经典的作品。公元1792...   \n216  《薯片厨房》是由G.Gear.inc出品的一款益智休闲游戏。在游戏中，添加各种美味的配方，来...   \n217  【iOS版注意事项】本游戏需要港区帐号才能下载安装。【游戏介绍】全球期待已久的《七龙珠》智能...   \n218  《王牌战争：代号英雄》是英雄互娱自研并发行的首款生存竞技手游，8×8超大地图，畅爽娱乐局，人...   \n219  《网易四川棋牌》是国内首款结合成都本地特色、高度还原真人打牌场景并首创融入RPG玩法的一款的...   \n220  铁拳，世界上最成功的格斗游戏！ 加入PAUL，KAZUYA，XIAOYU，LAW，PANDA...   \n221  【安卓版注意事项】本作需要数据包才能开始游戏。【游戏介绍】《乐高幻影忍者：罗宁的阴影》是一款...   \n222  这是一个表面上看起来和现实世界一样，但是地面以下却完全不同的里世界。在这个里世界里，普通人类...   \n223  在尼古拉·特斯拉创作最伟大发明的前夕，他的实验室被恐怖主义作家霍华德·菲利普·洛夫克拉夫特所...   \n224  普天之下，莫非王土；率土之滨，莫非王臣。沙盘战略，寸土必争！网易《率土之滨》开启沙盘战略元年...   \n225  《仙剑奇侠传1：DOS怀旧版》是1995年7月10日发行的DOS移植版，本作作为华人最经典的...   \n226  《战箭天下》（Battle Of Arrow），是一款1对1轻竞技对战手游。游戏以骑马射箭为...   \n227  ** 2016年度策略游戏 – 游戏大奖**iOS版《文明 VI》现已推出。立即下载，前60...   \n228  《ICEY》是一款2D横版动作游戏，跟随旁白的指示，你将会通过ICEY的眼睛去看，去战斗并发...   \n229  【安卓版注意事项】初次运行游戏如果网络不太稳定可选择挂载VPN，加载时间较长请耐心等待。【i...   \n230  《魔女之泉2》是一款由Kiwiwalks开发的角色扮演游戏，是《魔女之泉》的续作。本作延续了...   \n231  《杀手GO》或称《杀手：行动》是一款Square Enix开发的回合制战略游戏，游戏画面呈现...   \n232  《迷你DayZ》是由Bohemia Interactive a.s.出品的一款生存冒险游戏，...   \n233  官网地址：超高人气始祖IP回归，3D高画质全新演绎！拿起石斧、捕获骑宠和野兽去战斗！《石器时...   \n234  【安卓版注意事项】本作需要挂载VPN才能开始游戏。【iOS版注意事项】本作需要港区账号才能下...   \n235  从小型夜总会，到大型狂欢活动的头条新闻，开展您的DJ事业！《混音大师》是一款DJ音乐游戏，创...   \n236  在《的士模拟2020》中体验驾驶的乐趣吧！以出租车司机或私人的士司机的身份完成各式各样的驾驶...   \n237  《模拟农场18》是由GIANTS Software出品的一款策略经营游戏，成为 Farmin...   \n238  NBA 2K系列再次回归了，《NBA 2K18》移动版将为赛场带来前所未有的真实性和改进。其...   \n239  《帕斯卡契约》的故事中，太阳在上古时代因为一场天灾而沉入海底，世界被名为“污秽”的黑雾所笼罩...   \n\n                              dev      net        type  \n0                 开发：NianticLabs    网络：网游        类型：冒险  \n1                     开发：Ubisoft    网络：单机      类型：休闲益智  \n2             开发：Netmarble Games    网络：网游      类型：角色扮演  \n3                        开发：腾讯游戏    网络：网游        类型：射击  \n4                开发：Toca Boca AB    网络：单机      类型：益智休闲  \n5                   开发：2K Sports    网络：单机        类型：体育  \n6                       开发：米哈游科技    网络：网游        类型：动作  \n7                    开发：Nintendo    网络：单机      类型：角色扮演  \n8                        开发：叠纸游戏    网络：网游        类型：养成  \n9                      开发：KONAMI    网络：网游        类型：卡牌  \n10              开发：Nintendo、网易游戏    网络：网游      类型：角色扮演  \n11                  开发：TYPE-MOON    网络：网游      类型：角色扮演  \n12              开发：NEXON Company    网络：网游        类型：动作  \n13                       开发：腾讯游戏    网络：网游      类型：MOBA  \n14                   开发：Raw Fury    网络：单机        类型：策略  \n15         开发：Klei Entertainment    网络：单机        类型：冒险  \n16              开发：NEXON Company    网络：网游      类型：角色扮演  \n17                   开发：Nintendo    网络：单机        类型：跑酷  \n18               开发：MadOut Games    网络：单机        类型：竞速  \n19                       开发：腾讯游戏    网络：网游        类型：射击  \n20   开发：Psychose Interactive Inc    网络：单机        类型：冒险  \n21           开发：Tea & Cake Games    网络：单机      类型：角色扮演  \n22                     开发：CAPCOM    网络：网游    类型：动作角色扮演  \n23              开发：ROIGAMES Inc.    网络：单机        类型：冒险  \n24                       开发：幻萌网络    网络：网游      类型：策略经营  \n25     开发：FISHLABS & Deep Silver    网络：单机        类型：动作  \n26       开发：Ndemic Creations LTD    网络：单机      类型：策略经营  \n27              开发：NEXON Company    网络：网游        类型：动作  \n28       开发：Good Thoughts Affect    网络：单机      类型：角色扮演  \n29               开发：BANDAI NAMCO    网络：网游      类型：角色扮演  \n..                            ...      ...         ...  \n210                      开发：明朝互动    网络：网游        类型：策略  \n211     开发：Annapurna Interactive    网络：单机      类型：益智解谜  \n212                开发：HandyGames    网络：单机      类型：角色扮演  \n213                      开发：网易游戏    网络：网游        类型：动作  \n214              开发：BANDAI NAMCO    网络：网游      类型：角色扮演  \n215                    开发：KONAMI    网络：单机        类型：动作  \n216                开发：G.Gear.inc    网络：单机      类型：益智休闲  \n217              开发：BANDAI NAMCO    网络：单机        类型：动作  \n218                开发：北京游帮科技有限公司    网络：单机        类型：射击  \n219                        开发：网易    网络：网游      类型：棋牌娱乐  \n220              开发：BANDAI NAMCO    网络：单机        类型：格斗  \n221              开发：Warner Bros.    网络：单机        类型：动作  \n222                开发：OfunaGames    网络：单机      类型：策略经营  \n223                开发：10tons Ltd    网络：单机        类型：射击  \n224                        开发：网易    网络：网游        类型：策略  \n225                      开发：大宇软件    网络：单机      类型：角色扮演  \n226                      开发：墨游科技    网络：网游        类型：动作  \n227         开发：Aspyr Media, Inc.    网络：单机        类型：策略  \n228              开发：上海幻刃网络科技有限公司    网络：单机        类型：动作  \n229           开发：Electronic Arts    网络：单机        类型：体育  \n230                 开发：Kiwiwalks    网络：单机      类型：角色扮演  \n231               开发：Square Enix    网络：单机        类型：策略  \n232  开发：Bohemia Interactive a.s.    网络：单机        类型：冒险  \n233                        开发：未知    网络：网游      类型：角色扮演  \n234           开发：Electronic Arts    网络：网游        类型：卡牌  \n235       开发：Youth Control Games    网络：单机        类型：音乐  \n236                开发：Ovidiu Pop    网络：单机      类型：策略经营  \n237           开发：GIANTS Software    网络：单机      类型：策略经营  \n238                        开发：2K    网络：单机        类型：体育  \n239                 开发：TipsWorks    网络：网游        类型：动作  \n\n[240 rows x 6 columns]",
      "text/html": "<div>\n<style scoped>\n    .dataframe tbody tr th:only-of-type {\n        vertical-align: middle;\n    }\n\n    .dataframe tbody tr th {\n        vertical-align: top;\n    }\n\n    .dataframe thead th {\n        text-align: right;\n    }\n</style>\n<table border=\"1\" class=\"dataframe\">\n  <thead>\n    <tr style=\"text-align: right;\">\n      <th></th>\n      <th>game_name</th>\n      <th>game_tag</th>\n      <th>game_intro</th>\n      <th>dev</th>\n      <th>net</th>\n      <th>type</th>\n    </tr>\n  </thead>\n  <tbody>\n    <tr>\n      <th>0</th>\n      <td>精灵宝可梦：GO</td>\n      <td>3D,二次元</td>\n      <td>【安卓版注意事项】游戏需要Google Play账号，Google Play市场、Googl...</td>\n      <td>开发：NianticLabs</td>\n      <td>网络：网游</td>\n      <td>类型：冒险</td>\n    </tr>\n    <tr>\n      <th>1</th>\n      <td>饥饿鲨：世界</td>\n      <td>3D</td>\n      <td>【安卓版注意事项】游戏需要Google Play支持。【游戏介绍】《饥饿鲨：世界》是由Ubi...</td>\n      <td>开发：Ubisoft</td>\n      <td>网络：单机</td>\n      <td>类型：休闲益智</td>\n    </tr>\n    <tr>\n      <th>2</th>\n      <td>石器时代：起源</td>\n      <td>3D</td>\n      <td>《石器时代：起源》是一款由Netmarble Games开发的角色扮演游戏。游戏秉承了《石器...</td>\n      <td>开发：Netmarble Games</td>\n      <td>网络：网游</td>\n      <td>类型：角色扮演</td>\n    </tr>\n    <tr>\n      <th>3</th>\n      <td>使命召唤手游</td>\n      <td>3D,高画质,战争</td>\n      <td>国际服：【安卓版注意事项】本作需要Google Play支持并使用代理才能开始游戏。游戏下载...</td>\n      <td>开发：腾讯游戏</td>\n      <td>网络：网游</td>\n      <td>类型：射击</td>\n    </tr>\n    <tr>\n      <th>4</th>\n      <td>小小发型师3</td>\n      <td>NaN</td>\n      <td>《小小发型师3》是由Toca Boca AB出品的一款益智休闲游戏，这款人气爆棚的应用现已全...</td>\n      <td>开发：Toca Boca AB</td>\n      <td>网络：单机</td>\n      <td>类型：益智休闲</td>\n    </tr>\n    <tr>\n      <th>5</th>\n      <td>NBA 2K19</td>\n      <td>3D,高画质</td>\n      <td>【安卓版注意事项】游戏下载完成后请解压缩并按照内部的说明文档操作即可。【游戏介绍】NBA 2...</td>\n      <td>开发：2K Sports</td>\n      <td>网络：单机</td>\n      <td>类型：体育</td>\n    </tr>\n    <tr>\n      <th>6</th>\n      <td>崩坏3</td>\n      <td>3D,二次元</td>\n      <td>休伯利安号，指挥系统切换至战斗舰桥。辅助引擎能量急速上升，开始向主机输送点火动力，距离临界值...</td>\n      <td>开发：米哈游科技</td>\n      <td>网络：网游</td>\n      <td>类型：动作</td>\n    </tr>\n    <tr>\n      <th>7</th>\n      <td>火焰纹章：英雄</td>\n      <td>NaN</td>\n      <td>【安卓版注意事项】本游戏需要谷歌市场及谷歌框架才能开始游戏。【iOS版注意事项】本游戏需要日...</td>\n      <td>开发：Nintendo</td>\n      <td>网络：单机</td>\n      <td>类型：角色扮演</td>\n    </tr>\n    <tr>\n      <th>8</th>\n      <td>闪耀暖暖</td>\n      <td>美少女,国产,3D,高画质</td>\n      <td>暖暖系列首款次世代3D巨作，以最高技术标准呈现数千种不同的材质，打造无限风格的至美服装盛宴。...</td>\n      <td>开发：叠纸游戏</td>\n      <td>网络：网游</td>\n      <td>类型：养成</td>\n    </tr>\n    <tr>\n      <th>9</th>\n      <td>游戏王：决斗链接</td>\n      <td>二次元,改编,科幻</td>\n      <td>《游戏王：决斗链接》是由KONAMI研发，网易独家代理的官方正版手游。在决斗链接的世界里，化...</td>\n      <td>开发：KONAMI</td>\n      <td>网络：网游</td>\n      <td>类型：卡牌</td>\n    </tr>\n    <tr>\n      <th>10</th>\n      <td>宝可梦大探险</td>\n      <td>3D,萌物,奇幻</td>\n      <td>《宝可梦大探险》是一款以方块造型的宝可梦为主角的休闲收集对战手游。在名为“方可乐”的岛屿上，...</td>\n      <td>开发：Nintendo、网易游戏</td>\n      <td>网络：网游</td>\n      <td>类型：角色扮演</td>\n    </tr>\n    <tr>\n      <th>11</th>\n      <td>命运-冠位指定</td>\n      <td>3D,二次元</td>\n      <td>《命运-冠位指定》是一款由TYPE-MOON开发的角色扮演游戏。本作根据《命运之夜》改编而来...</td>\n      <td>开发：TYPE-MOON</td>\n      <td>网络：网游</td>\n      <td>类型：角色扮演</td>\n    </tr>\n    <tr>\n      <th>12</th>\n      <td>地下城与勇士：魂</td>\n      <td>3D,横版卷轴</td>\n      <td>《地下城与勇士：魂》是由NEXON Company出品的一款动作游戏。在游戏中，玩家可以操作...</td>\n      <td>开发：NEXON Company</td>\n      <td>网络：网游</td>\n      <td>类型：动作</td>\n    </tr>\n    <tr>\n      <th>13</th>\n      <td>王者荣耀</td>\n      <td>3D,三国</td>\n      <td>《王者荣耀》是一款由腾讯天美工作室开发，腾讯游戏运营的MOBA手游。在游戏中赵云、昭君、曹操...</td>\n      <td>开发：腾讯游戏</td>\n      <td>网络：网游</td>\n      <td>类型：MOBA</td>\n    </tr>\n    <tr>\n      <th>14</th>\n      <td>绝境北方</td>\n      <td>高画质</td>\n      <td>【iOS版注意事项】本游戏需要港区帐号才能下载安装。【游戏介绍】《绝境北方》，又名《北方绝境...</td>\n      <td>开发：Raw Fury</td>\n      <td>网络：单机</td>\n      <td>类型：策略</td>\n    </tr>\n    <tr>\n      <th>15</th>\n      <td>饥荒：口袋版</td>\n      <td>生存</td>\n      <td>《饥荒》是独立游戏开发团队Klei Entertainment在2013年于PC平台发布的一...</td>\n      <td>开发：Klei Entertainment</td>\n      <td>网络：单机</td>\n      <td>类型：冒险</td>\n    </tr>\n    <tr>\n      <th>16</th>\n      <td>冒险岛M</td>\n      <td>横版卷轴</td>\n      <td>【安卓版注意事项】游戏下载完成后，需要下载大小在1个G左右的数据包，推荐挂载VPN进行。【i...</td>\n      <td>开发：NEXON Company</td>\n      <td>网络：网游</td>\n      <td>类型：角色扮演</td>\n    </tr>\n    <tr>\n      <th>17</th>\n      <td>超级马里奥奔跑</td>\n      <td>横版卷轴</td>\n      <td>【安卓版注意事项】经常出现加载失败的情况请使用代理进入游戏。【iOS版注意事项】本游戏需要台...</td>\n      <td>开发：Nintendo</td>\n      <td>网络：单机</td>\n      <td>类型：跑酷</td>\n    </tr>\n    <tr>\n      <th>18</th>\n      <td>火力全开之开放城市2</td>\n      <td>3D</td>\n      <td>《火力全开之开放城市2》是由MadOut Games出品的一款竞速游戏，欧美风情的城市中乡村...</td>\n      <td>开发：MadOut Games</td>\n      <td>网络：单机</td>\n      <td>类型：竞速</td>\n    </tr>\n    <tr>\n      <th>19</th>\n      <td>和平精英</td>\n      <td>国产,沙盒,生存</td>\n      <td>《和平精英》是腾讯光子工作室群自研打造的反恐军事竞赛体验手游。虚幻引擎4研发，次世代完美画质...</td>\n      <td>开发：腾讯游戏</td>\n      <td>网络：网游</td>\n      <td>类型：射击</td>\n    </tr>\n    <tr>\n      <th>20</th>\n      <td>失落的记忆：现实交替</td>\n      <td>惊悚恐怖,高画质</td>\n      <td>在《失落的记忆》中，你将扮演露丝·霍金斯，一个坚强而独立的女人，她正在寻找一名失踪的孩子伊甸...</td>\n      <td>开发：Psychose Interactive Inc</td>\n      <td>网络：单机</td>\n      <td>类型：冒险</td>\n    </tr>\n    <tr>\n      <th>21</th>\n      <td>病娇模拟器（完整版）</td>\n      <td>3D</td>\n      <td>《病娇模拟器》是一款萌妹子模拟类游戏。在游戏中玩家扮演的女学生因极度迷恋学长，而无法接受其他...</td>\n      <td>开发：Tea &amp; Cake Games</td>\n      <td>网络：单机</td>\n      <td>类型：角色扮演</td>\n    </tr>\n    <tr>\n      <th>22</th>\n      <td>怪物猎人：探险</td>\n      <td>3D</td>\n      <td>【安卓版注意事项】游戏不支持root手机。【iOS版注意事项】本游戏需要台湾区帐号才能下载安...</td>\n      <td>开发：CAPCOM</td>\n      <td>网络：网游</td>\n      <td>类型：动作角色扮演</td>\n    </tr>\n    <tr>\n      <th>23</th>\n      <td>恐怖学校：白色情人节</td>\n      <td>惊悚恐怖,3D</td>\n      <td>《恐怖学校：白色情人节》是一款由ROIGAMES Inc.开发的冒险解谜游戏。本作实际上根据...</td>\n      <td>开发：ROIGAMES Inc.</td>\n      <td>网络：单机</td>\n      <td>类型：冒险</td>\n    </tr>\n    <tr>\n      <th>24</th>\n      <td>战舰少女r</td>\n      <td>二次元</td>\n      <td>《战舰少女r》是一款由幻萌网络开发、上海尽游网络运营的策略游戏。游戏有着全新的Q版战斗方式，...</td>\n      <td>开发：幻萌网络</td>\n      <td>网络：网游</td>\n      <td>类型：策略经营</td>\n    </tr>\n    <tr>\n      <th>25</th>\n      <td>死亡岛：幸存者</td>\n      <td>生存,科幻,惊悚恐怖,3D,高画质</td>\n      <td>《死亡岛：幸存者》，头号丧尸系列游戏登陆手机平台！集结你的英雄小队，强化基地，与朋友共同面对...</td>\n      <td>开发：FISHLABS &amp; Deep Silver</td>\n      <td>网络：单机</td>\n      <td>类型：动作</td>\n    </tr>\n    <tr>\n      <th>26</th>\n      <td>反叛公司</td>\n      <td>模拟</td>\n      <td>你能阻止一场致命的叛乱吗？这是一款设计独特的、深入人心的政治/军事模拟游戏。战争已经“结束”...</td>\n      <td>开发：Ndemic Creations LTD</td>\n      <td>网络：单机</td>\n      <td>类型：策略经营</td>\n    </tr>\n    <tr>\n      <th>27</th>\n      <td>真·三国无双斩</td>\n      <td>3D,三国</td>\n      <td>【安卓版注意事项】游戏需要谷歌商店支持且需要使用代理下载700MB左右的数据，请保持网络畅通...</td>\n      <td>开发：NEXON Company</td>\n      <td>网络：网游</td>\n      <td>类型：动作</td>\n    </tr>\n    <tr>\n      <th>28</th>\n      <td>攀爬侠</td>\n      <td>3D</td>\n      <td>《攀爬侠》是一款3D的超级英雄模拟器。游戏中的主角，力大无穷能一脚踹飞汽车同时还有像蜘蛛侠一...</td>\n      <td>开发：Good Thoughts Affect</td>\n      <td>网络：单机</td>\n      <td>类型：角色扮演</td>\n    </tr>\n    <tr>\n      <th>29</th>\n      <td>刀剑神域：关键斗士</td>\n      <td>二次元</td>\n      <td>【iOS版注意事项】本游戏需要港区帐号才能下载安装。【游戏介绍】这一次，主角就是你！成为攻略...</td>\n      <td>开发：BANDAI NAMCO</td>\n      <td>网络：网游</td>\n      <td>类型：角色扮演</td>\n    </tr>\n    <tr>\n      <th>...</th>\n      <td>...</td>\n      <td>...</td>\n      <td>...</td>\n      <td>...</td>\n      <td>...</td>\n      <td>...</td>\n    </tr>\n    <tr>\n      <th>210</th>\n      <td>方舟指令</td>\n      <td>科幻,美少女,国产,二次元</td>\n      <td>科技发达的2353年，对战少女人形——【誓灵】在社会上引发热潮。在由古老信仰的神秘力量和最尖...</td>\n      <td>开发：明朝互动</td>\n      <td>网络：网游</td>\n      <td>类型：策略</td>\n    </tr>\n    <tr>\n      <th>211</th>\n      <td>画中世界</td>\n      <td>NaN</td>\n      <td>《画中世界》是一款独具特色的解谜游戏，其故事情节围绕Jason Roberts设计和作画的精...</td>\n      <td>开发：Annapurna Interactive</td>\n      <td>网络：单机</td>\n      <td>类型：益智解谜</td>\n    </tr>\n    <tr>\n      <th>212</th>\n      <td>战神：夜袭</td>\n      <td>奇幻,回合制</td>\n      <td>《战神：夜袭》是一款由经典游戏机巨作激发的角色扮演游戏，拥有地下城深度探索、以经典JRPG格...</td>\n      <td>开发：HandyGames</td>\n      <td>网络：单机</td>\n      <td>类型：角色扮演</td>\n    </tr>\n    <tr>\n      <th>213</th>\n      <td>猫和老鼠手游</td>\n      <td>国产,二次元,改编</td>\n      <td>猫鼠追逃，尽享互动乐趣。智勇较量，谁能赢得胜利？《猫和老鼠》是由华纳兄弟互动娱乐正版IP授权...</td>\n      <td>开发：网易游戏</td>\n      <td>网络：网游</td>\n      <td>类型：动作</td>\n    </tr>\n    <tr>\n      <th>214</th>\n      <td>SD高达G世纪：革命</td>\n      <td>二次元</td>\n      <td>【安卓版注意事项】本作需要谷歌市场支持并使用代理才能开始游戏。【iOS版注意事项】本游戏需要...</td>\n      <td>开发：BANDAI NAMCO</td>\n      <td>网络：网游</td>\n      <td>类型：角色扮演</td>\n    </tr>\n    <tr>\n      <th>215</th>\n      <td>恶魔城：月下夜想曲</td>\n      <td>横版卷轴,像素,奇幻</td>\n      <td>由KONAMI制作的招牌动作游戏《恶魔城：月下夜想曲》是系列游戏的最经典的作品。公元1792...</td>\n      <td>开发：KONAMI</td>\n      <td>网络：单机</td>\n      <td>类型：动作</td>\n    </tr>\n    <tr>\n      <th>216</th>\n      <td>薯片厨房</td>\n      <td>放置,汉化</td>\n      <td>《薯片厨房》是由G.Gear.inc出品的一款益智休闲游戏。在游戏中，添加各种美味的配方，来...</td>\n      <td>开发：G.Gear.inc</td>\n      <td>网络：单机</td>\n      <td>类型：益智休闲</td>\n    </tr>\n    <tr>\n      <th>217</th>\n      <td>七龙珠：激战传说</td>\n      <td>二次元</td>\n      <td>【iOS版注意事项】本游戏需要港区帐号才能下载安装。【游戏介绍】全球期待已久的《七龙珠》智能...</td>\n      <td>开发：BANDAI NAMCO</td>\n      <td>网络：单机</td>\n      <td>类型：动作</td>\n    </tr>\n    <tr>\n      <th>218</th>\n      <td>王牌战争：代号英雄</td>\n      <td>生存</td>\n      <td>《王牌战争：代号英雄》是英雄互娱自研并发行的首款生存竞技手游，8×8超大地图，畅爽娱乐局，人...</td>\n      <td>开发：北京游帮科技有限公司</td>\n      <td>网络：单机</td>\n      <td>类型：射击</td>\n    </tr>\n    <tr>\n      <th>219</th>\n      <td>网易四川棋牌</td>\n      <td>NaN</td>\n      <td>《网易四川棋牌》是国内首款结合成都本地特色、高度还原真人打牌场景并首创融入RPG玩法的一款的...</td>\n      <td>开发：网易</td>\n      <td>网络：网游</td>\n      <td>类型：棋牌娱乐</td>\n    </tr>\n    <tr>\n      <th>220</th>\n      <td>铁拳移动版</td>\n      <td>3D</td>\n      <td>铁拳，世界上最成功的格斗游戏！ 加入PAUL，KAZUYA，XIAOYU，LAW，PANDA...</td>\n      <td>开发：BANDAI NAMCO</td>\n      <td>网络：单机</td>\n      <td>类型：格斗</td>\n    </tr>\n    <tr>\n      <th>221</th>\n      <td>乐高幻影忍者：罗宁的阴影</td>\n      <td>3D</td>\n      <td>【安卓版注意事项】本作需要数据包才能开始游戏。【游戏介绍】《乐高幻影忍者：罗宁的阴影》是一款...</td>\n      <td>开发：Warner Bros.</td>\n      <td>网络：单机</td>\n      <td>类型：动作</td>\n    </tr>\n    <tr>\n      <th>222</th>\n      <td>黑暗料理王</td>\n      <td>Roguelike</td>\n      <td>这是一个表面上看起来和现实世界一样，但是地面以下却完全不同的里世界。在这个里世界里，普通人类...</td>\n      <td>开发：OfunaGames</td>\n      <td>网络：单机</td>\n      <td>类型：策略经营</td>\n    </tr>\n    <tr>\n      <th>223</th>\n      <td>科学VS狂怒</td>\n      <td>奇幻</td>\n      <td>在尼古拉·特斯拉创作最伟大发明的前夕，他的实验室被恐怖主义作家霍华德·菲利普·洛夫克拉夫特所...</td>\n      <td>开发：10tons Ltd</td>\n      <td>网络：单机</td>\n      <td>类型：射击</td>\n    </tr>\n    <tr>\n      <th>224</th>\n      <td>率土之滨</td>\n      <td>三国</td>\n      <td>普天之下，莫非王土；率土之滨，莫非王臣。沙盘战略，寸土必争！网易《率土之滨》开启沙盘战略元年...</td>\n      <td>开发：网易</td>\n      <td>网络：网游</td>\n      <td>类型：策略</td>\n    </tr>\n    <tr>\n      <th>225</th>\n      <td>仙剑奇侠传1：DOS怀旧版</td>\n      <td>NaN</td>\n      <td>《仙剑奇侠传1：DOS怀旧版》是1995年7月10日发行的DOS移植版，本作作为华人最经典的...</td>\n      <td>开发：大宇软件</td>\n      <td>网络：单机</td>\n      <td>类型：角色扮演</td>\n    </tr>\n    <tr>\n      <th>226</th>\n      <td>战箭天下</td>\n      <td>3D,高画质,重力感应</td>\n      <td>《战箭天下》（Battle Of Arrow），是一款1对1轻竞技对战手游。游戏以骑马射箭为...</td>\n      <td>开发：墨游科技</td>\n      <td>网络：网游</td>\n      <td>类型：动作</td>\n    </tr>\n    <tr>\n      <th>227</th>\n      <td>文明6</td>\n      <td>NaN</td>\n      <td>** 2016年度策略游戏 – 游戏大奖**iOS版《文明 VI》现已推出。立即下载，前60...</td>\n      <td>开发：Aspyr Media, Inc.</td>\n      <td>网络：单机</td>\n      <td>类型：策略</td>\n    </tr>\n    <tr>\n      <th>228</th>\n      <td>ICEY</td>\n      <td>横版卷轴</td>\n      <td>《ICEY》是一款2D横版动作游戏，跟随旁白的指示，你将会通过ICEY的眼睛去看，去战斗并发...</td>\n      <td>开发：上海幻刃网络科技有限公司</td>\n      <td>网络：单机</td>\n      <td>类型：动作</td>\n    </tr>\n    <tr>\n      <th>229</th>\n      <td>FIFA Mobile</td>\n      <td>3D</td>\n      <td>【安卓版注意事项】初次运行游戏如果网络不太稳定可选择挂载VPN，加载时间较长请耐心等待。【i...</td>\n      <td>开发：Electronic Arts</td>\n      <td>网络：单机</td>\n      <td>类型：体育</td>\n    </tr>\n    <tr>\n      <th>230</th>\n      <td>魔女之泉2</td>\n      <td>3D</td>\n      <td>《魔女之泉2》是一款由Kiwiwalks开发的角色扮演游戏，是《魔女之泉》的续作。本作延续了...</td>\n      <td>开发：Kiwiwalks</td>\n      <td>网络：单机</td>\n      <td>类型：角色扮演</td>\n    </tr>\n    <tr>\n      <th>231</th>\n      <td>杀手GO</td>\n      <td>3D</td>\n      <td>《杀手GO》或称《杀手：行动》是一款Square Enix开发的回合制战略游戏，游戏画面呈现...</td>\n      <td>开发：Square Enix</td>\n      <td>网络：单机</td>\n      <td>类型：策略</td>\n    </tr>\n    <tr>\n      <th>232</th>\n      <td>迷你DayZ</td>\n      <td>像素</td>\n      <td>《迷你DayZ》是由Bohemia Interactive a.s.出品的一款生存冒险游戏，...</td>\n      <td>开发：Bohemia Interactive a.s.</td>\n      <td>网络：单机</td>\n      <td>类型：冒险</td>\n    </tr>\n    <tr>\n      <th>233</th>\n      <td>石器时代M</td>\n      <td>回合制,奇幻,3D</td>\n      <td>官网地址：超高人气始祖IP回归，3D高画质全新演绎！拿起石斧、捕获骑宠和野兽去战斗！《石器时...</td>\n      <td>开发：未知</td>\n      <td>网络：网游</td>\n      <td>类型：角色扮演</td>\n    </tr>\n    <tr>\n      <th>234</th>\n      <td>植物大战僵尸：英雄</td>\n      <td>NaN</td>\n      <td>【安卓版注意事项】本作需要挂载VPN才能开始游戏。【iOS版注意事项】本作需要港区账号才能下...</td>\n      <td>开发：Electronic Arts</td>\n      <td>网络：网游</td>\n      <td>类型：卡牌</td>\n    </tr>\n    <tr>\n      <th>235</th>\n      <td>混音大师</td>\n      <td>NaN</td>\n      <td>从小型夜总会，到大型狂欢活动的头条新闻，开展您的DJ事业！《混音大师》是一款DJ音乐游戏，创...</td>\n      <td>开发：Youth Control Games</td>\n      <td>网络：单机</td>\n      <td>类型：音乐</td>\n    </tr>\n    <tr>\n      <th>236</th>\n      <td>的士模拟2020</td>\n      <td>3D,模拟,汉化</td>\n      <td>在《的士模拟2020》中体验驾驶的乐趣吧！以出租车司机或私人的士司机的身份完成各式各样的驾驶...</td>\n      <td>开发：Ovidiu Pop</td>\n      <td>网络：单机</td>\n      <td>类型：策略经营</td>\n    </tr>\n    <tr>\n      <th>237</th>\n      <td>模拟农场18</td>\n      <td>3D</td>\n      <td>《模拟农场18》是由GIANTS Software出品的一款策略经营游戏，成为 Farmin...</td>\n      <td>开发：GIANTS Software</td>\n      <td>网络：单机</td>\n      <td>类型：策略经营</td>\n    </tr>\n    <tr>\n      <th>238</th>\n      <td>NBA 2K18</td>\n      <td>NaN</td>\n      <td>NBA 2K系列再次回归了，《NBA 2K18》移动版将为赛场带来前所未有的真实性和改进。其...</td>\n      <td>开发：2K</td>\n      <td>网络：单机</td>\n      <td>类型：体育</td>\n    </tr>\n    <tr>\n      <th>239</th>\n      <td>帕斯卡契约</td>\n      <td>奇幻,高画质,惊悚恐怖</td>\n      <td>《帕斯卡契约》的故事中，太阳在上古时代因为一场天灾而沉入海底，世界被名为“污秽”的黑雾所笼罩...</td>\n      <td>开发：TipsWorks</td>\n      <td>网络：网游</td>\n      <td>类型：动作</td>\n    </tr>\n  </tbody>\n</table>\n<p>240 rows × 6 columns</p>\n</div>"
     },
     "metadata": {},
     "output_type": "execute_result",
     "execution_count": 14
    }
   ],
   "source": [
    "# 把一列分为三列\n",
    "# 先把一列的数值变成string字符串类型，然后以|为分割点，\n",
    "df[\"dev\"],df[\"net\"],df[\"type\"] = df[\"box_txt\"].str.split(\"|\").str\n",
    "# 删除原来的列\n",
    "del df[\"box_txt\"]\n",
    "df"
   ],
   "metadata": {
    "collapsed": false,
    "pycharm": {
     "name": "#%%\n",
     "is_executing": false
    }
   }
  },
  {
   "cell_type": "code",
   "execution_count": 17,
   "outputs": [],
   "source": [
    "# 用extract提取，提取条件是：后面括号里面的中文或者是a-zA-Z之间的字母,\\u4e00-\\u9fa5表示中文\n",
    "df[\"dev\"] = df[\"dev\"].str.extract(\"：([\\u4e00-\\u9fa5]+|[a-zA-Z]+)\")\n",
    "df[\"net\"] = df[\"net\"].str.extract(\"：([\\u4e00-\\u9fa5]+|[a-zA-Z]+)\")\n",
    "df[\"type\"] = df[\"type\"].str.extract(\"：([\\u4e00-\\u9fa5]+|[a-zA-Z]+)\")"
   ],
   "metadata": {
    "collapsed": false,
    "pycharm": {
     "name": "#%%\n",
     "is_executing": false
    }
   }
  },
  {
   "cell_type": "markdown",
   "source": [
    "热门游戏的名称分词分析"
   ],
   "metadata": {
    "collapsed": false,
    "pycharm": {
     "name": "#%% md\n",
     "is_executing": false
    }
   }
  },
  {
   "cell_type": "code",
   "source": [
    "t1 = df.copy()\n",
    "\n",
    "# 1.获取所有的游戏名称\n",
    "# 先获取游戏名字，然后转变为列表，最后合并成一个字符串\n",
    "texts = \"\".join(df[\"game_name\"].values.tolist())\n",
    "\n",
    "\n",
    "# 只获取中文\n",
    "texts = \"\".join(re.findall(r'[\\u4e00-\\u9fa5]',texts))\n",
    "\n",
    "# 切分\n",
    "result = jieba.cut(texts)\n",
    "\n",
    "# 2.导入停用词表（是为了忽略停用词表里面的数据）\n",
    "stopwords = open(\"stop_words.txt\",encoding=\"utf-8\").read()\n",
    "stopwords = stopwords.split(\"\\n\")\n",
    "\n",
    "# 3.过滤分词的结果\n",
    "allwords = [word for word in result if len(word)>1 and word not in stopwords]\n",
    "\n",
    "#4.创建DataFrame对象，并统计单词及其次数\n",
    "# word作为列名\n",
    "res = pd.DataFrame(allwords,columns=['word'])\n",
    "# 针对每个词进行分组，并统计其出现的次数\n",
    "res = res[\"word\"].groupby(res[\"word\"]).count()\n",
    "\n",
    "# 设置列名称（为词和次数设置名称）txt为词列名   word为词的个数列名\n",
    "res.index.name = \"txt\"\n",
    "res = res.reset_index()\n",
    "\n",
    "\n",
    "# 5.给索引列赋值，并过滤出我们需要的次数超过1的词\n",
    "res = res[res[\"word\"] > 1].reset_index(drop=True)# 后面的是把之前的<=2的词删掉\n",
    "# res\n",
    "\n",
    "# 6.标题词云展示数据\n",
    "name = res[\"txt\"].tolist()\n",
    "value = res[\"word\"].tolist()\n",
    "\n",
    "wc = WordCloud(width=1366,height=600) # 词云框架的宽和高\n",
    "wc.add(\"\",name,value,word_size_range=[20,100])# 词最小的是20，最大的是100\n",
    "wc.render(\"游戏名字分析.html\")"
   ],
   "metadata": {
    "collapsed": false,
    "pycharm": {
     "name": "#%%\n",
     "is_executing": false
    }
   },
   "execution_count": null,
   "outputs": []
  },
  {
   "cell_type": "markdown",
   "source": [
    "热度排名前十的成绩分布"
   ],
   "metadata": {
    "collapsed": false,
    "pycharm": {
     "name": "#%% md\n"
    }
   }
  },
  {
   "cell_type": "code",
   "execution_count": 47,
   "outputs": [],
   "source": [
    "t = df.copy()\n",
    "top10 = t.head(10)\n",
    "x = top10[\"game_name\"]\n",
    "y = top10[\"game_avg\"]\n",
    "\n",
    "figure,ax = plt.subplots(1,1)\n",
    "ax.set_xticklabels(t[\"game_name\"],rotation=90)\n",
    "ax.bar(x,height=y,width=0.5,label=\"游戏评分\",tick_label=x)\n",
    "\n",
    "# 添加数据标签\n",
    "for a,b in zip(x,y):\n",
    "    ax.text(a,b+0.05,'%.1f'%b,ha='center',va='bottom',fontsize=10)\n",
    "\n",
    "# 添加图例\n",
    "plt.legend(loc=(1,1))\n",
    "# 展示图形\n",
    "plt.show()"
   ],
   "metadata": {
    "collapsed": false,
    "pycharm": {
     "name": "#%%\n",
     "is_executing": false
    }
   }
  },
  {
   "cell_type": "code",
   "execution_count": null,
   "outputs": [],
   "source": [
    "\n"
   ],
   "metadata": {
    "collapsed": false,
    "pycharm": {
     "name": "#%%\n"
    }
   }
  }
 ],
 "metadata": {
  "kernelspec": {
   "display_name": "Python 3",
   "language": "python",
   "name": "python3"
  },
  "language_info": {
   "codemirror_mode": {
    "name": "ipython",
    "version": 2
   },
   "file_extension": ".py",
   "mimetype": "text/x-python",
   "name": "python",
   "nbconvert_exporter": "python",
   "pygments_lexer": "ipython2",
   "version": "2.7.6"
  },
  "pycharm": {
   "stem_cell": {
    "cell_type": "raw",
    "source": [],
    "metadata": {
     "collapsed": false
    }
   }
  }
 },
 "nbformat": 4,
 "nbformat_minor": 0
}